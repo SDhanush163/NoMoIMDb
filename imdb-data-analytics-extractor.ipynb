{
 "metadata": {
  "language_info": {
   "codemirror_mode": {
    "name": "ipython",
    "version": 3
   },
   "file_extension": ".py",
   "mimetype": "text/x-python",
   "name": "python",
   "nbconvert_exporter": "python",
   "pygments_lexer": "ipython3",
   "version": "3.7.4-final"
  },
  "orig_nbformat": 2,
  "kernelspec": {
   "name": "python3",
   "display_name": "Python 3.7.4 64-bit"
  },
  "interpreter": {
   "hash": "04635d289a519a1410467dd0afb0db42f9184808881ca68b2eb5a687a20a5a94"
  }
 },
 "nbformat": 4,
 "nbformat_minor": 2,
 "cells": [
  {
   "source": [
    "# IMDb Data Analytics Extractor\n",
    "- Import data from the CSV File located in `src/data/imdb_movies_data.csv`\n",
    "- Extract analysis data on various factors in the movies list\n"
   ],
   "cell_type": "markdown",
   "metadata": {}
  },
  {
   "source": [
    "## Data import\n",
    "Import the required packages. <br />\n",
    "Import the dataframe and ensure it is ready for analysis\n"
   ],
   "cell_type": "markdown",
   "metadata": {}
  },
  {
   "cell_type": "code",
   "execution_count": 1,
   "metadata": {},
   "outputs": [],
   "source": [
    "import pandas as pd\n",
    "import numpy as np\n",
    "import json\n"
   ]
  },
  {
   "source": [
    "Import the dataframe from the CSV file"
   ],
   "cell_type": "markdown",
   "metadata": {}
  },
  {
   "cell_type": "code",
   "execution_count": 2,
   "metadata": {},
   "outputs": [
    {
     "output_type": "execute_result",
     "data": {
      "text/plain": [
       "   ranking  ranking.1                movie_name  \\\n",
       "0        1          1  The Shawshank Redemption   \n",
       "1        2          2             The Godfather   \n",
       "2        3          3    The Godfather: Part II   \n",
       "3        4          4           The Dark Knight   \n",
       "4        5          5              12 Angry Men   \n",
       "\n",
       "                                     url  year  rating vote_count  \\\n",
       "0  https://www.imdb.com/title/tt0111161/  1994     9.3  2,333,043   \n",
       "1  https://www.imdb.com/title/tt0068646/  1972     9.2  1,612,835   \n",
       "2  https://www.imdb.com/title/tt0071562/  1974     9.0  1,125,471   \n",
       "3  https://www.imdb.com/title/tt0468569/  2008     9.0  2,294,364   \n",
       "4  https://www.imdb.com/title/tt0050083/  1957     9.0    686,732   \n",
       "\n",
       "                                             summary  \\\n",
       "0  Two imprisoned men bond over a number of years...   \n",
       "1  An organized crime dynasty's aging patriarch t...   \n",
       "2  The early life and career of Vito Corleone in ...   \n",
       "3  When the menace known as the Joker wreaks havo...   \n",
       "4  A jury holdout attempts to prevent a miscarria...   \n",
       "\n",
       "                production_1             production_2  ... language_1  \\\n",
       "0  Castle Rock Entertainment                           ...    English   \n",
       "1         Paramount Pictures       Alfran Productions  ...    English   \n",
       "2         Paramount Pictures      The Coppola Company  ...    English   \n",
       "3               Warner Bros.  Legendary Entertainment  ...    English   \n",
       "4     Orion-Nova Productions                           ...    English   \n",
       "\n",
       "  language_2 language_3 language_4 language_5        budget gross_worldwide  \\\n",
       "0                                               $25,000,000     $28,817,291   \n",
       "1    Italian      Latin                          $6,000,000    $246,120,986   \n",
       "2    Italian    Spanish      Latin   Sicilian   $13,000,000     $48,035,783   \n",
       "3   Mandarin                                   $185,000,000  $1,005,973,645   \n",
       "4                                                  $350,000            $576   \n",
       "\n",
       "      gross_usa opening_week_usa decade  \n",
       "0   $28,699,976         $727,327   1990  \n",
       "1  $134,966,411         $302,393   1970  \n",
       "2   $47,834,595         $171,417   1970  \n",
       "3  $534,858,444     $158,411,483   2000  \n",
       "4           NaN              NaN   1950  \n",
       "\n",
       "[5 rows x 38 columns]"
      ],
      "text/html": "<div>\n<style scoped>\n    .dataframe tbody tr th:only-of-type {\n        vertical-align: middle;\n    }\n\n    .dataframe tbody tr th {\n        vertical-align: top;\n    }\n\n    .dataframe thead th {\n        text-align: right;\n    }\n</style>\n<table border=\"1\" class=\"dataframe\">\n  <thead>\n    <tr style=\"text-align: right;\">\n      <th></th>\n      <th>ranking</th>\n      <th>ranking.1</th>\n      <th>movie_name</th>\n      <th>url</th>\n      <th>year</th>\n      <th>rating</th>\n      <th>vote_count</th>\n      <th>summary</th>\n      <th>production_1</th>\n      <th>production_2</th>\n      <th>...</th>\n      <th>language_1</th>\n      <th>language_2</th>\n      <th>language_3</th>\n      <th>language_4</th>\n      <th>language_5</th>\n      <th>budget</th>\n      <th>gross_worldwide</th>\n      <th>gross_usa</th>\n      <th>opening_week_usa</th>\n      <th>decade</th>\n    </tr>\n  </thead>\n  <tbody>\n    <tr>\n      <th>0</th>\n      <td>1</td>\n      <td>1</td>\n      <td>The Shawshank Redemption</td>\n      <td>https://www.imdb.com/title/tt0111161/</td>\n      <td>1994</td>\n      <td>9.3</td>\n      <td>2,333,043</td>\n      <td>Two imprisoned men bond over a number of years...</td>\n      <td>Castle Rock Entertainment</td>\n      <td></td>\n      <td>...</td>\n      <td>English</td>\n      <td></td>\n      <td></td>\n      <td></td>\n      <td></td>\n      <td>$25,000,000</td>\n      <td>$28,817,291</td>\n      <td>$28,699,976</td>\n      <td>$727,327</td>\n      <td>1990</td>\n    </tr>\n    <tr>\n      <th>1</th>\n      <td>2</td>\n      <td>2</td>\n      <td>The Godfather</td>\n      <td>https://www.imdb.com/title/tt0068646/</td>\n      <td>1972</td>\n      <td>9.2</td>\n      <td>1,612,835</td>\n      <td>An organized crime dynasty's aging patriarch t...</td>\n      <td>Paramount Pictures</td>\n      <td>Alfran Productions</td>\n      <td>...</td>\n      <td>English</td>\n      <td>Italian</td>\n      <td>Latin</td>\n      <td></td>\n      <td></td>\n      <td>$6,000,000</td>\n      <td>$246,120,986</td>\n      <td>$134,966,411</td>\n      <td>$302,393</td>\n      <td>1970</td>\n    </tr>\n    <tr>\n      <th>2</th>\n      <td>3</td>\n      <td>3</td>\n      <td>The Godfather: Part II</td>\n      <td>https://www.imdb.com/title/tt0071562/</td>\n      <td>1974</td>\n      <td>9.0</td>\n      <td>1,125,471</td>\n      <td>The early life and career of Vito Corleone in ...</td>\n      <td>Paramount Pictures</td>\n      <td>The Coppola Company</td>\n      <td>...</td>\n      <td>English</td>\n      <td>Italian</td>\n      <td>Spanish</td>\n      <td>Latin</td>\n      <td>Sicilian</td>\n      <td>$13,000,000</td>\n      <td>$48,035,783</td>\n      <td>$47,834,595</td>\n      <td>$171,417</td>\n      <td>1970</td>\n    </tr>\n    <tr>\n      <th>3</th>\n      <td>4</td>\n      <td>4</td>\n      <td>The Dark Knight</td>\n      <td>https://www.imdb.com/title/tt0468569/</td>\n      <td>2008</td>\n      <td>9.0</td>\n      <td>2,294,364</td>\n      <td>When the menace known as the Joker wreaks havo...</td>\n      <td>Warner Bros.</td>\n      <td>Legendary Entertainment</td>\n      <td>...</td>\n      <td>English</td>\n      <td>Mandarin</td>\n      <td></td>\n      <td></td>\n      <td></td>\n      <td>$185,000,000</td>\n      <td>$1,005,973,645</td>\n      <td>$534,858,444</td>\n      <td>$158,411,483</td>\n      <td>2000</td>\n    </tr>\n    <tr>\n      <th>4</th>\n      <td>5</td>\n      <td>5</td>\n      <td>12 Angry Men</td>\n      <td>https://www.imdb.com/title/tt0050083/</td>\n      <td>1957</td>\n      <td>9.0</td>\n      <td>686,732</td>\n      <td>A jury holdout attempts to prevent a miscarria...</td>\n      <td>Orion-Nova Productions</td>\n      <td></td>\n      <td>...</td>\n      <td>English</td>\n      <td></td>\n      <td></td>\n      <td></td>\n      <td></td>\n      <td>$350,000</td>\n      <td>$576</td>\n      <td>NaN</td>\n      <td>NaN</td>\n      <td>1950</td>\n    </tr>\n  </tbody>\n</table>\n<p>5 rows × 38 columns</p>\n</div>"
     },
     "metadata": {},
     "execution_count": 2
    }
   ],
   "source": [
    "movie_data = pd.read_csv('./src/data/imdb_movies_data.csv')\n",
    "movie_data['decade'] = ((movie_data['year'] // 10).astype(int) * 10)\n",
    "movie_data.head(5)"
   ]
  },
  {
   "source": [
    "## Extracting data into seperate Dataframes and JSON\n",
    "Extracting the various fields that can be resolved per decade"
   ],
   "cell_type": "markdown",
   "metadata": {}
  },
  {
   "cell_type": "code",
   "execution_count": 3,
   "metadata": {},
   "outputs": [
    {
     "output_type": "execute_result",
     "data": {
      "text/plain": [
       "    decade mean_votes\n",
       "0     1920    90427.5\n",
       "1     1930     169388\n",
       "2     1940     224224\n",
       "3     1950     200622\n",
       "4     1960     246585\n",
       "5     1970     549483\n",
       "6     1980     459742\n",
       "7     1990     904336\n",
       "8     2000     742077\n",
       "9     2010     542346\n",
       "10    2020    88777.5"
      ],
      "text/html": "<div>\n<style scoped>\n    .dataframe tbody tr th:only-of-type {\n        vertical-align: middle;\n    }\n\n    .dataframe tbody tr th {\n        vertical-align: top;\n    }\n\n    .dataframe thead th {\n        text-align: right;\n    }\n</style>\n<table border=\"1\" class=\"dataframe\">\n  <thead>\n    <tr style=\"text-align: right;\">\n      <th></th>\n      <th>decade</th>\n      <th>mean_votes</th>\n    </tr>\n  </thead>\n  <tbody>\n    <tr>\n      <th>0</th>\n      <td>1920</td>\n      <td>90427.5</td>\n    </tr>\n    <tr>\n      <th>1</th>\n      <td>1930</td>\n      <td>169388</td>\n    </tr>\n    <tr>\n      <th>2</th>\n      <td>1940</td>\n      <td>224224</td>\n    </tr>\n    <tr>\n      <th>3</th>\n      <td>1950</td>\n      <td>200622</td>\n    </tr>\n    <tr>\n      <th>4</th>\n      <td>1960</td>\n      <td>246585</td>\n    </tr>\n    <tr>\n      <th>5</th>\n      <td>1970</td>\n      <td>549483</td>\n    </tr>\n    <tr>\n      <th>6</th>\n      <td>1980</td>\n      <td>459742</td>\n    </tr>\n    <tr>\n      <th>7</th>\n      <td>1990</td>\n      <td>904336</td>\n    </tr>\n    <tr>\n      <th>8</th>\n      <td>2000</td>\n      <td>742077</td>\n    </tr>\n    <tr>\n      <th>9</th>\n      <td>2010</td>\n      <td>542346</td>\n    </tr>\n    <tr>\n      <th>10</th>\n      <td>2020</td>\n      <td>88777.5</td>\n    </tr>\n  </tbody>\n</table>\n</div>"
     },
     "metadata": {},
     "execution_count": 3
    }
   ],
   "source": [
    "# -------------------------------------------------------------------------------------\n",
    "# Resolve movies per decade\n",
    "no_movies_per_decade = pd.DataFrame({\n",
    "    \"decade\" : movie_data['decade'].value_counts().index,\n",
    "    \"movies\" : movie_data['decade'].value_counts()\n",
    "}).sort_values('decade').reset_index(drop = True)\n",
    "\n",
    "no_movies_per_decade_json = no_movies_per_decade.to_dict('records')\n",
    "\n",
    "# -------------------------------------------------------------------------------------\n",
    "# Resolve movie ratings per decade\n",
    "movie_rating_per_decade = pd.DataFrame({\n",
    "    \"decade\" : movie_data['decade'].value_counts().index,\n",
    "    \"mean_rating\" : None\n",
    "}).sort_values('decade').reset_index(drop = True)\n",
    "\n",
    "for i in range(len(movie_rating_per_decade)):\n",
    "    decade_filter = movie_data['decade'] == movie_rating_per_decade.iloc[i,0]\n",
    "    filtered_movies = movie_data[decade_filter]\n",
    "    movie_rating_per_decade.iloc[i,1] = round(filtered_movies['rating'].mean(), 3)\n",
    "\n",
    "movie_rating_per_decade_json = movie_rating_per_decade.to_dict('records')\n",
    "\n",
    "# -------------------------------------------------------------------------------------\n",
    "# Resolve total votes recieved per decade\n",
    "movie_votes_per_decade = pd.DataFrame({\n",
    "    \"decade\" : movie_data['decade'].value_counts().index,\n",
    "    \"mean_votes\" : None\n",
    "}).sort_values('decade').reset_index(drop = True)\n",
    "\n",
    "decade_to_vote =  pd.DataFrame({\n",
    "    'decade' : movie_data['decade'].values,\n",
    "    'votes' : movie_data['vote_count'].values\n",
    "})\n",
    "\n",
    "for i in range(len(decade_to_vote)):\n",
    "    decade_to_vote.iloc[i,1] = int(''.join(filter(lambda x : x.isdigit(), decade_to_vote.iloc[i,1] )))\n",
    "\n",
    "for i in range(len(movie_votes_per_decade)):\n",
    "    decade_filter = decade_to_vote['decade'] == movie_votes_per_decade.iloc[i,0]\n",
    "    filtered_votes = decade_to_vote[decade_filter]\n",
    "    movie_votes_per_decade.iloc[i,1] = round(filtered_votes['votes'].mean(), 3)\n",
    "\n",
    "movie_votes_per_decade_json = movie_votes_per_decade.to_dict('records')\n",
    "\n",
    "movie_votes_per_decade"
   ]
  },
  {
   "source": [
    "Extracting various budget/ monetary field and resolving them per decade"
   ],
   "cell_type": "markdown",
   "metadata": {}
  },
  {
   "cell_type": "code",
   "execution_count": 4,
   "metadata": {},
   "outputs": [
    {
     "output_type": "execute_result",
     "data": {
      "text/plain": [
       "    decade  mean_budget mean_gross_worldwide mean_gross_usa  \\\n",
       "0     1920   1.3205e+06               237570         372570   \n",
       "1     1930  1.53367e+06          6.68101e+07    3.35359e+07   \n",
       "2     1940   1.2318e+06          2.44644e+06    1.54605e+06   \n",
       "3     1950  7.18051e+06           6.5425e+06    6.48861e+06   \n",
       "4     1960  2.96705e+06          1.21684e+07    1.18258e+07   \n",
       "5     1970   7.0784e+06          9.63552e+07    7.21282e+07   \n",
       "6     1980  1.60154e+07          1.13827e+08    6.94076e+07   \n",
       "7     1990  9.35264e+07          2.36655e+08    1.00223e+08   \n",
       "8     2000  5.47774e+07          2.50248e+08    9.81422e+07   \n",
       "9     2010  2.96242e+08          3.98081e+08    1.31514e+08   \n",
       "10    2020            0            2.365e+07              0   \n",
       "\n",
       "   mean_opening_week_usa  \n",
       "0                   4299  \n",
       "1                 221139  \n",
       "2                40852.1  \n",
       "3                33188.7  \n",
       "4                38955.3  \n",
       "5                 315171  \n",
       "6            3.63098e+06  \n",
       "7            9.96997e+06  \n",
       "8            1.83378e+07  \n",
       "9            3.70355e+07  \n",
       "10                     0  "
      ],
      "text/html": "<div>\n<style scoped>\n    .dataframe tbody tr th:only-of-type {\n        vertical-align: middle;\n    }\n\n    .dataframe tbody tr th {\n        vertical-align: top;\n    }\n\n    .dataframe thead th {\n        text-align: right;\n    }\n</style>\n<table border=\"1\" class=\"dataframe\">\n  <thead>\n    <tr style=\"text-align: right;\">\n      <th></th>\n      <th>decade</th>\n      <th>mean_budget</th>\n      <th>mean_gross_worldwide</th>\n      <th>mean_gross_usa</th>\n      <th>mean_opening_week_usa</th>\n    </tr>\n  </thead>\n  <tbody>\n    <tr>\n      <th>0</th>\n      <td>1920</td>\n      <td>1.3205e+06</td>\n      <td>237570</td>\n      <td>372570</td>\n      <td>4299</td>\n    </tr>\n    <tr>\n      <th>1</th>\n      <td>1930</td>\n      <td>1.53367e+06</td>\n      <td>6.68101e+07</td>\n      <td>3.35359e+07</td>\n      <td>221139</td>\n    </tr>\n    <tr>\n      <th>2</th>\n      <td>1940</td>\n      <td>1.2318e+06</td>\n      <td>2.44644e+06</td>\n      <td>1.54605e+06</td>\n      <td>40852.1</td>\n    </tr>\n    <tr>\n      <th>3</th>\n      <td>1950</td>\n      <td>7.18051e+06</td>\n      <td>6.5425e+06</td>\n      <td>6.48861e+06</td>\n      <td>33188.7</td>\n    </tr>\n    <tr>\n      <th>4</th>\n      <td>1960</td>\n      <td>2.96705e+06</td>\n      <td>1.21684e+07</td>\n      <td>1.18258e+07</td>\n      <td>38955.3</td>\n    </tr>\n    <tr>\n      <th>5</th>\n      <td>1970</td>\n      <td>7.0784e+06</td>\n      <td>9.63552e+07</td>\n      <td>7.21282e+07</td>\n      <td>315171</td>\n    </tr>\n    <tr>\n      <th>6</th>\n      <td>1980</td>\n      <td>1.60154e+07</td>\n      <td>1.13827e+08</td>\n      <td>6.94076e+07</td>\n      <td>3.63098e+06</td>\n    </tr>\n    <tr>\n      <th>7</th>\n      <td>1990</td>\n      <td>9.35264e+07</td>\n      <td>2.36655e+08</td>\n      <td>1.00223e+08</td>\n      <td>9.96997e+06</td>\n    </tr>\n    <tr>\n      <th>8</th>\n      <td>2000</td>\n      <td>5.47774e+07</td>\n      <td>2.50248e+08</td>\n      <td>9.81422e+07</td>\n      <td>1.83378e+07</td>\n    </tr>\n    <tr>\n      <th>9</th>\n      <td>2010</td>\n      <td>2.96242e+08</td>\n      <td>3.98081e+08</td>\n      <td>1.31514e+08</td>\n      <td>3.70355e+07</td>\n    </tr>\n    <tr>\n      <th>10</th>\n      <td>2020</td>\n      <td>0</td>\n      <td>2.365e+07</td>\n      <td>0</td>\n      <td>0</td>\n    </tr>\n  </tbody>\n</table>\n</div>"
     },
     "metadata": {},
     "execution_count": 4
    }
   ],
   "source": [
    "\n",
    "# -------------------------------------------------------------------------------------\n",
    "# Resolve mean budget per decade\n",
    "movie_budget_per_decade = pd.DataFrame({\n",
    "    \"decade\" : movie_data['decade'].value_counts().index,\n",
    "    \"mean_budget\" : None,\n",
    "    \"mean_gross_worldwide\" : None,\n",
    "    \"mean_gross_usa\": None,\n",
    "    \"mean_opening_week_usa\":None\n",
    "}).sort_values('decade').reset_index(drop = True)\n",
    "\n",
    "decade_to_costs = pd.DataFrame({\n",
    "    'decade' : movie_data['decade'].values,\n",
    "    'budget' : movie_data['budget'].values,\n",
    "    'gross_worldwide' : movie_data['gross_worldwide'].values,\n",
    "    'gross_usa' : movie_data['gross_usa'].values,\n",
    "    'opening_week_usa' : movie_data['opening_week_usa'].values\n",
    "})\n",
    "\n",
    "decade_to_costs['budget'] = (decade_to_costs['budget'].replace(np.nan, '0'))\n",
    "decade_to_costs['gross_worldwide'] = (decade_to_costs['gross_worldwide'].replace(np.nan, '0'))\n",
    "decade_to_costs['gross_usa'] = (decade_to_costs['gross_usa'].replace(np.nan, '0'))\n",
    "decade_to_costs['opening_week_usa'] = (decade_to_costs['opening_week_usa'].replace(np.nan, '0'))\n",
    "\n",
    "for i in range(len(decade_to_costs)): \n",
    "    decade_to_costs.iloc[i, 1] = int(''.join(filter(lambda x : x.isdigit(), decade_to_costs.iloc[i,1] )))\n",
    "    decade_to_costs.iloc[i, 2] = int(''.join(filter(lambda x : x.isdigit(), decade_to_costs.iloc[i,2] )))\n",
    "    decade_to_costs.iloc[i, 3] = int(''.join(filter(lambda x : x.isdigit(), decade_to_costs.iloc[i,3] )))\n",
    "    decade_to_costs.iloc[i, 4] = int(''.join(filter(lambda x : x.isdigit(), decade_to_costs.iloc[i,4] )))\n",
    "\n",
    "for i in range(len(movie_budget_per_decade)):\n",
    "    decade_filter = decade_to_costs['decade'] == movie_budget_per_decade.iloc[i,0]\n",
    "    filtered_budgets = decade_to_costs[decade_filter]\n",
    "    movie_budget_per_decade.iloc[i,1] = filtered_budgets['budget'].mean()\n",
    "    movie_budget_per_decade.iloc[i,2] = filtered_budgets['gross_worldwide'].mean()\n",
    "    movie_budget_per_decade.iloc[i,3] = filtered_budgets['gross_usa'].mean()\n",
    "    movie_budget_per_decade.iloc[i,4] = filtered_budgets['opening_week_usa'].mean()\n",
    "\n",
    "movie_budget_per_decade_json = movie_budget_per_decade.to_dict('records')\n",
    "\n",
    "movie_budget_per_decade"
   ]
  },
  {
   "source": [
    "Extracting fields which involve categorical data"
   ],
   "cell_type": "markdown",
   "metadata": {}
  },
  {
   "cell_type": "code",
   "execution_count": 5,
   "metadata": {},
   "outputs": [
    {
     "output_type": "execute_result",
     "data": {
      "text/plain": [
       "                                              director  count mean_imdb_rating\n",
       "0                                           Aamir Khan      1              8.4\n",
       "1                                          Adam Elliot      1              8.1\n",
       "2                                       Akira Kurosawa      6            8.317\n",
       "3    Alejandro G. Iñárritu(as Alejandro González Iñ...      1              8.1\n",
       "4                                     Alfred Hitchcock      6              8.3\n",
       "..                                                 ...    ...              ...\n",
       "153                                        Wim Wenders      1              8.1\n",
       "154                                  Wolfgang Petersen      1              8.3\n",
       "155                                       Yasujirô Ozu      1              8.2\n",
       "156                                       Yavuz Turgul      1              8.2\n",
       "157                                        Çagan Irmak      1              8.3\n",
       "\n",
       "[158 rows x 3 columns]"
      ],
      "text/html": "<div>\n<style scoped>\n    .dataframe tbody tr th:only-of-type {\n        vertical-align: middle;\n    }\n\n    .dataframe tbody tr th {\n        vertical-align: top;\n    }\n\n    .dataframe thead th {\n        text-align: right;\n    }\n</style>\n<table border=\"1\" class=\"dataframe\">\n  <thead>\n    <tr style=\"text-align: right;\">\n      <th></th>\n      <th>director</th>\n      <th>count</th>\n      <th>mean_imdb_rating</th>\n    </tr>\n  </thead>\n  <tbody>\n    <tr>\n      <th>0</th>\n      <td>Aamir Khan</td>\n      <td>1</td>\n      <td>8.4</td>\n    </tr>\n    <tr>\n      <th>1</th>\n      <td>Adam Elliot</td>\n      <td>1</td>\n      <td>8.1</td>\n    </tr>\n    <tr>\n      <th>2</th>\n      <td>Akira Kurosawa</td>\n      <td>6</td>\n      <td>8.317</td>\n    </tr>\n    <tr>\n      <th>3</th>\n      <td>Alejandro G. Iñárritu(as Alejandro González Iñ...</td>\n      <td>1</td>\n      <td>8.1</td>\n    </tr>\n    <tr>\n      <th>4</th>\n      <td>Alfred Hitchcock</td>\n      <td>6</td>\n      <td>8.3</td>\n    </tr>\n    <tr>\n      <th>...</th>\n      <td>...</td>\n      <td>...</td>\n      <td>...</td>\n    </tr>\n    <tr>\n      <th>153</th>\n      <td>Wim Wenders</td>\n      <td>1</td>\n      <td>8.1</td>\n    </tr>\n    <tr>\n      <th>154</th>\n      <td>Wolfgang Petersen</td>\n      <td>1</td>\n      <td>8.3</td>\n    </tr>\n    <tr>\n      <th>155</th>\n      <td>Yasujirô Ozu</td>\n      <td>1</td>\n      <td>8.2</td>\n    </tr>\n    <tr>\n      <th>156</th>\n      <td>Yavuz Turgul</td>\n      <td>1</td>\n      <td>8.2</td>\n    </tr>\n    <tr>\n      <th>157</th>\n      <td>Çagan Irmak</td>\n      <td>1</td>\n      <td>8.3</td>\n    </tr>\n  </tbody>\n</table>\n<p>158 rows × 3 columns</p>\n</div>"
     },
     "metadata": {},
     "execution_count": 5
    }
   ],
   "source": [
    "# -------------------------------------------------------------------------------------\n",
    "# 1 Censor rating\n",
    "censor_data = pd.DataFrame({\n",
    "    'censor_rating' : movie_data['censor_rating'].value_counts().index,\n",
    "    'count' : movie_data['censor_rating'].value_counts(),\n",
    "    'mean_imdb_rating' : None\n",
    "}).sort_values('censor_rating').reset_index(drop = True)\n",
    "\n",
    "for i in range(len(censor_data)):\n",
    "    censor_filter = movie_data['censor_rating'] == censor_data.iloc[i,0]\n",
    "    filtered_movies = movie_data[censor_filter]\n",
    "    censor_data.iloc[i,2] = round(filtered_movies['rating'].mean(), 3)\n",
    "\n",
    "censor_data_json = censor_data.to_dict('records')\n",
    "\n",
    "# -------------------------------------------------------------------------------------\n",
    "# 2 Director ratings\n",
    "director_data = pd.DataFrame({\n",
    "    'director' : movie_data['director'].value_counts().index,\n",
    "    'count' : movie_data['director'].value_counts(),\n",
    "    'mean_imdb_rating' : None\n",
    "}).sort_values('director').reset_index(drop = True)\n",
    "\n",
    "for i in range(len(director_data)):\n",
    "    director_filter = movie_data['director'] == director_data.iloc[i,0]\n",
    "    filtered_movies = movie_data[director_filter]\n",
    "    director_data.iloc[i,2] = round(filtered_movies['rating'].mean(), 3)\n",
    "\n",
    "director_data_json = director_data.to_dict('records')\n",
    "\n",
    "director_data"
   ]
  },
  {
   "source": [
    "Extracting the productions data"
   ],
   "cell_type": "markdown",
   "metadata": {}
  },
  {
   "cell_type": "code",
   "execution_count": 6,
   "metadata": {},
   "outputs": [
    {
     "output_type": "execute_result",
     "data": {
      "text/plain": [
       "                         production_co  count mean_imdb_rating\n",
       "0                        ABC Animation      1              8.1\n",
       "1                                 AMLF      1              8.3\n",
       "2               Aamir Khan Productions      2              8.4\n",
       "3               Act III Communications      1                8\n",
       "4                  Alcon Entertainment      1              8.1\n",
       "..                                 ...    ...              ...\n",
       "151                       Warner Bros.     19            8.384\n",
       "152  Warner Independent Pictures (WIP)      1              8.1\n",
       "153    Wiedemann & Berg Filmproduktion      1              8.4\n",
       "154           Zanuck/Brown Productions      1              8.3\n",
       "155                        micro_scope      1              8.3\n",
       "\n",
       "[156 rows x 3 columns]"
      ],
      "text/html": "<div>\n<style scoped>\n    .dataframe tbody tr th:only-of-type {\n        vertical-align: middle;\n    }\n\n    .dataframe tbody tr th {\n        vertical-align: top;\n    }\n\n    .dataframe thead th {\n        text-align: right;\n    }\n</style>\n<table border=\"1\" class=\"dataframe\">\n  <thead>\n    <tr style=\"text-align: right;\">\n      <th></th>\n      <th>production_co</th>\n      <th>count</th>\n      <th>mean_imdb_rating</th>\n    </tr>\n  </thead>\n  <tbody>\n    <tr>\n      <th>0</th>\n      <td>ABC Animation</td>\n      <td>1</td>\n      <td>8.1</td>\n    </tr>\n    <tr>\n      <th>1</th>\n      <td>AMLF</td>\n      <td>1</td>\n      <td>8.3</td>\n    </tr>\n    <tr>\n      <th>2</th>\n      <td>Aamir Khan Productions</td>\n      <td>2</td>\n      <td>8.4</td>\n    </tr>\n    <tr>\n      <th>3</th>\n      <td>Act III Communications</td>\n      <td>1</td>\n      <td>8</td>\n    </tr>\n    <tr>\n      <th>4</th>\n      <td>Alcon Entertainment</td>\n      <td>1</td>\n      <td>8.1</td>\n    </tr>\n    <tr>\n      <th>...</th>\n      <td>...</td>\n      <td>...</td>\n      <td>...</td>\n    </tr>\n    <tr>\n      <th>151</th>\n      <td>Warner Bros.</td>\n      <td>19</td>\n      <td>8.384</td>\n    </tr>\n    <tr>\n      <th>152</th>\n      <td>Warner Independent Pictures (WIP)</td>\n      <td>1</td>\n      <td>8.1</td>\n    </tr>\n    <tr>\n      <th>153</th>\n      <td>Wiedemann &amp; Berg Filmproduktion</td>\n      <td>1</td>\n      <td>8.4</td>\n    </tr>\n    <tr>\n      <th>154</th>\n      <td>Zanuck/Brown Productions</td>\n      <td>1</td>\n      <td>8.3</td>\n    </tr>\n    <tr>\n      <th>155</th>\n      <td>micro_scope</td>\n      <td>1</td>\n      <td>8.3</td>\n    </tr>\n  </tbody>\n</table>\n<p>156 rows × 3 columns</p>\n</div>"
     },
     "metadata": {},
     "execution_count": 6
    }
   ],
   "source": [
    "production1_data = pd.DataFrame({\n",
    "    'production_co' : movie_data['production_1'].value_counts().index,\n",
    "    'count' : movie_data['production_1'].value_counts(),\n",
    "    'mean_imdb_rating' : None\n",
    "}).sort_values('production_co').reset_index(drop = True)\n",
    "\n",
    "production2_data = pd.DataFrame({\n",
    "    'production_co' : movie_data['production_2'].value_counts().index,\n",
    "    'count' : movie_data['production_2'].value_counts(),\n",
    "    'mean_imdb_rating' : None\n",
    "}).sort_values('production_co').reset_index(drop = True)\n",
    "\n",
    "production3_data = pd.DataFrame({\n",
    "    'production_co' : movie_data['production_3'].value_counts().index,\n",
    "    'count' : movie_data['production_3'].value_counts(),\n",
    "    'mean_imdb_rating' : None\n",
    "}).sort_values('production_co').reset_index(drop = True)\n",
    "\n",
    "production1_data['production_co'].replace(' ', np.nan, inplace=True)\n",
    "production2_data['production_co'].replace(' ', np.nan, inplace=True)\n",
    "production3_data['production_co'].replace(' ', np.nan, inplace=True)\n",
    "\n",
    "production1_data.dropna(subset=['production_co'], inplace=True)\n",
    "production2_data.dropna(subset=['production_co'], inplace=True)\n",
    "production3_data.dropna(subset=['production_co'], inplace=True)\n",
    "\n",
    "for i in range(len(production1_data)):\n",
    "    production_co1_filter = movie_data['production_1'] == production1_data.iloc[i,0]\n",
    "    filtered_movies = movie_data[production_co1_filter]\n",
    "    production1_data.iloc[i,2] = round(filtered_movies['rating'].mean(), 3)\n",
    "\n",
    "for i in range(len(production2_data)):\n",
    "    production_co2_filter = movie_data['production_2'] == production2_data.iloc[i,0]\n",
    "    filtered_movies = movie_data[production_co2_filter]\n",
    "    production2_data.iloc[i,2] = round(filtered_movies['rating'].mean(), 3)\n",
    "\n",
    "for i in range(len(production3_data)):\n",
    "    production_co3_filter = movie_data['production_3'] == production3_data.iloc[i,0]\n",
    "    filtered_movies = movie_data[production_co3_filter]\n",
    "    production3_data.iloc[i,2] = round(filtered_movies['rating'].mean(), 3)\n",
    "\n",
    "production1_data_json = production1_data.to_dict('records')\n",
    "production2_data_json = production2_data.to_dict('records')\n",
    "production3_data_json = production3_data.to_dict('records')\n",
    "\n",
    "production1_data"
   ]
  },
  {
   "source": [
    "Extracting the genres data"
   ],
   "cell_type": "markdown",
   "metadata": {}
  },
  {
   "cell_type": "code",
   "execution_count": 7,
   "metadata": {},
   "outputs": [
    {
     "output_type": "execute_result",
     "data": {
      "text/plain": [
       "        genre  count mean_imdb_rating\n",
       "0      Action     41            8.371\n",
       "1   Adventure     20             8.21\n",
       "2   Animation     22            8.264\n",
       "3   Biography     22            8.264\n",
       "4      Comedy     25            8.276\n",
       "5       Crime     38            8.366\n",
       "6       Drama     71            8.285\n",
       "7   Film-Noir      1              8.1\n",
       "8      Horror      3            8.333\n",
       "9     Mystery      4            8.325\n",
       "10    Western      3            8.533"
      ],
      "text/html": "<div>\n<style scoped>\n    .dataframe tbody tr th:only-of-type {\n        vertical-align: middle;\n    }\n\n    .dataframe tbody tr th {\n        vertical-align: top;\n    }\n\n    .dataframe thead th {\n        text-align: right;\n    }\n</style>\n<table border=\"1\" class=\"dataframe\">\n  <thead>\n    <tr style=\"text-align: right;\">\n      <th></th>\n      <th>genre</th>\n      <th>count</th>\n      <th>mean_imdb_rating</th>\n    </tr>\n  </thead>\n  <tbody>\n    <tr>\n      <th>0</th>\n      <td>Action</td>\n      <td>41</td>\n      <td>8.371</td>\n    </tr>\n    <tr>\n      <th>1</th>\n      <td>Adventure</td>\n      <td>20</td>\n      <td>8.21</td>\n    </tr>\n    <tr>\n      <th>2</th>\n      <td>Animation</td>\n      <td>22</td>\n      <td>8.264</td>\n    </tr>\n    <tr>\n      <th>3</th>\n      <td>Biography</td>\n      <td>22</td>\n      <td>8.264</td>\n    </tr>\n    <tr>\n      <th>4</th>\n      <td>Comedy</td>\n      <td>25</td>\n      <td>8.276</td>\n    </tr>\n    <tr>\n      <th>5</th>\n      <td>Crime</td>\n      <td>38</td>\n      <td>8.366</td>\n    </tr>\n    <tr>\n      <th>6</th>\n      <td>Drama</td>\n      <td>71</td>\n      <td>8.285</td>\n    </tr>\n    <tr>\n      <th>7</th>\n      <td>Film-Noir</td>\n      <td>1</td>\n      <td>8.1</td>\n    </tr>\n    <tr>\n      <th>8</th>\n      <td>Horror</td>\n      <td>3</td>\n      <td>8.333</td>\n    </tr>\n    <tr>\n      <th>9</th>\n      <td>Mystery</td>\n      <td>4</td>\n      <td>8.325</td>\n    </tr>\n    <tr>\n      <th>10</th>\n      <td>Western</td>\n      <td>3</td>\n      <td>8.533</td>\n    </tr>\n  </tbody>\n</table>\n</div>"
     },
     "metadata": {},
     "execution_count": 7
    }
   ],
   "source": [
    "primary_genre_data = pd.DataFrame({\n",
    "    \"genre\" : movie_data['genre_1'].value_counts().index,\n",
    "    'count' : movie_data['genre_1'].value_counts(),\n",
    "    'mean_imdb_rating' : None\n",
    "}).sort_values('genre').reset_index(drop = True)\n",
    "\n",
    "secondary_genre_data = pd.DataFrame({\n",
    "    \"genre\" : movie_data['genre_2'].value_counts().index,\n",
    "    'count' : movie_data['genre_2'].value_counts(),\n",
    "    'mean_imdb_rating' : None\n",
    "}).sort_values('genre').reset_index(drop = True)\n",
    "\n",
    "ternary_genre_data = pd.DataFrame({\n",
    "    \"genre\" : movie_data['genre_3'].value_counts().index,\n",
    "    'count' : movie_data['genre_3'].value_counts(),\n",
    "    'mean_imdb_rating' : None\n",
    "}).sort_values('genre').reset_index(drop = True)\n",
    "\n",
    "extra_genre_data = pd.DataFrame({\n",
    "    \"genre\" : movie_data['genre_4'].value_counts().index,\n",
    "    'count' : movie_data['genre_4'].value_counts(),\n",
    "    'mean_imdb_rating' : None\n",
    "}).sort_values('genre').reset_index(drop = True)\n",
    "\n",
    "primary_genre_data['genre'].replace(' ', np.nan, inplace=True)\n",
    "secondary_genre_data['genre'].replace(' ', np.nan, inplace=True)\n",
    "ternary_genre_data['genre'].replace(' ', np.nan, inplace=True)\n",
    "extra_genre_data['genre'].replace(' ', np.nan, inplace=True)\n",
    "\n",
    "primary_genre_data.dropna(subset=['genre'], inplace=True)\n",
    "secondary_genre_data.dropna(subset=['genre'], inplace=True)\n",
    "ternary_genre_data.dropna(subset=['genre'], inplace=True)\n",
    "extra_genre_data.dropna(subset=['genre'], inplace=True)\n",
    "\n",
    "for i in range(len(primary_genre_data)):\n",
    "    genre_filter = movie_data['genre_1'] == primary_genre_data.iloc[i,0]\n",
    "    filtered_movies = movie_data[genre_filter]\n",
    "    primary_genre_data.iloc[i,2] = round(filtered_movies['rating'].mean(), 3)\n",
    "\n",
    "for i in range(len(secondary_genre_data)):\n",
    "    genre_filter = movie_data['genre_2'] == secondary_genre_data.iloc[i,0]\n",
    "    filtered_movies = movie_data[genre_filter]\n",
    "    secondary_genre_data.iloc[i,2] = round(filtered_movies['rating'].mean(), 3)\n",
    "\n",
    "for i in range(len(ternary_genre_data)):\n",
    "    genre_filter = movie_data['genre_3'] == ternary_genre_data.iloc[i,0]\n",
    "    filtered_movies = movie_data[genre_filter]\n",
    "    ternary_genre_data.iloc[i,2] = round(filtered_movies['rating'].mean(), 3)\n",
    "\n",
    "for i in range(len(extra_genre_data)):\n",
    "    genre_filter = movie_data['genre_4'] == extra_genre_data.iloc[i,0]\n",
    "    filtered_movies = movie_data[genre_filter]\n",
    "    extra_genre_data.iloc[i,2] = round(filtered_movies['rating'].mean(), 3)\n",
    "\n",
    "primary_genre_data_json = primary_genre_data.to_dict('records')\n",
    "secondary_genre_data_json = secondary_genre_data.to_dict('records')\n",
    "ternary_genre_data_json = ternary_genre_data.to_dict('records')\n",
    "extra_genre_data_json = extra_genre_data.to_dict('records')\n",
    "\n",
    "primary_genre_data"
   ]
  },
  {
   "source": [
    "Extracting the language data"
   ],
   "cell_type": "markdown",
   "metadata": {}
  },
  {
   "cell_type": "code",
   "execution_count": 8,
   "metadata": {},
   "outputs": [
    {
     "output_type": "execute_result",
     "data": {
      "text/plain": [
       "      language  count mean_imdb_rating\n",
       "0       Arabic      2             8.25\n",
       "1    Cantonese      1              8.1\n",
       "2       Danish      1              8.3\n",
       "3      English    174            8.314\n",
       "4       French      8            8.212\n",
       "5       German      6              8.3\n",
       "6        Hindi      8            8.312\n",
       "7      Italian      4             8.55\n",
       "8     Japanese     16            8.325\n",
       "9       Korean      4              8.3\n",
       "10        None      6            8.233\n",
       "11     Persian      2              8.3\n",
       "12  Portuguese      1              8.6\n",
       "13      Romany      1              8.2\n",
       "14     Russian      3              8.2\n",
       "15     Spanish      5             8.14\n",
       "16     Swedish      5             8.16\n",
       "17       Tamil      1              8.4\n",
       "18     Turkish      2             8.25"
      ],
      "text/html": "<div>\n<style scoped>\n    .dataframe tbody tr th:only-of-type {\n        vertical-align: middle;\n    }\n\n    .dataframe tbody tr th {\n        vertical-align: top;\n    }\n\n    .dataframe thead th {\n        text-align: right;\n    }\n</style>\n<table border=\"1\" class=\"dataframe\">\n  <thead>\n    <tr style=\"text-align: right;\">\n      <th></th>\n      <th>language</th>\n      <th>count</th>\n      <th>mean_imdb_rating</th>\n    </tr>\n  </thead>\n  <tbody>\n    <tr>\n      <th>0</th>\n      <td>Arabic</td>\n      <td>2</td>\n      <td>8.25</td>\n    </tr>\n    <tr>\n      <th>1</th>\n      <td>Cantonese</td>\n      <td>1</td>\n      <td>8.1</td>\n    </tr>\n    <tr>\n      <th>2</th>\n      <td>Danish</td>\n      <td>1</td>\n      <td>8.3</td>\n    </tr>\n    <tr>\n      <th>3</th>\n      <td>English</td>\n      <td>174</td>\n      <td>8.314</td>\n    </tr>\n    <tr>\n      <th>4</th>\n      <td>French</td>\n      <td>8</td>\n      <td>8.212</td>\n    </tr>\n    <tr>\n      <th>5</th>\n      <td>German</td>\n      <td>6</td>\n      <td>8.3</td>\n    </tr>\n    <tr>\n      <th>6</th>\n      <td>Hindi</td>\n      <td>8</td>\n      <td>8.312</td>\n    </tr>\n    <tr>\n      <th>7</th>\n      <td>Italian</td>\n      <td>4</td>\n      <td>8.55</td>\n    </tr>\n    <tr>\n      <th>8</th>\n      <td>Japanese</td>\n      <td>16</td>\n      <td>8.325</td>\n    </tr>\n    <tr>\n      <th>9</th>\n      <td>Korean</td>\n      <td>4</td>\n      <td>8.3</td>\n    </tr>\n    <tr>\n      <th>10</th>\n      <td>None</td>\n      <td>6</td>\n      <td>8.233</td>\n    </tr>\n    <tr>\n      <th>11</th>\n      <td>Persian</td>\n      <td>2</td>\n      <td>8.3</td>\n    </tr>\n    <tr>\n      <th>12</th>\n      <td>Portuguese</td>\n      <td>1</td>\n      <td>8.6</td>\n    </tr>\n    <tr>\n      <th>13</th>\n      <td>Romany</td>\n      <td>1</td>\n      <td>8.2</td>\n    </tr>\n    <tr>\n      <th>14</th>\n      <td>Russian</td>\n      <td>3</td>\n      <td>8.2</td>\n    </tr>\n    <tr>\n      <th>15</th>\n      <td>Spanish</td>\n      <td>5</td>\n      <td>8.14</td>\n    </tr>\n    <tr>\n      <th>16</th>\n      <td>Swedish</td>\n      <td>5</td>\n      <td>8.16</td>\n    </tr>\n    <tr>\n      <th>17</th>\n      <td>Tamil</td>\n      <td>1</td>\n      <td>8.4</td>\n    </tr>\n    <tr>\n      <th>18</th>\n      <td>Turkish</td>\n      <td>2</td>\n      <td>8.25</td>\n    </tr>\n  </tbody>\n</table>\n</div>"
     },
     "metadata": {},
     "execution_count": 8
    }
   ],
   "source": [
    "primary_language_data = pd.DataFrame({\n",
    "    'language' : movie_data['language_1'].value_counts().index,\n",
    "    'count' : movie_data['language_1'].value_counts(),\n",
    "    'mean_imdb_rating' : None\n",
    "}).sort_values('language').reset_index(drop = True)\n",
    "\n",
    "secondary_language_data = pd.DataFrame({\n",
    "    'language' : movie_data['language_2'].value_counts().index,\n",
    "    'count' : movie_data['language_2'].value_counts(),\n",
    "    'mean_imdb_rating' : None\n",
    "}).sort_values('language').reset_index(drop = True)\n",
    "\n",
    "ternary_language_data = pd.DataFrame({\n",
    "    'language' : movie_data['language_3'].value_counts().index,\n",
    "    'count' : movie_data['language_3'].value_counts(),\n",
    "    'mean_imdb_rating' : None\n",
    "}).sort_values('language').reset_index(drop = True)\n",
    "\n",
    "fourth_language_data = pd.DataFrame({\n",
    "    'language' : movie_data['language_4'].value_counts().index,\n",
    "    'count' : movie_data['language_4'].value_counts(),\n",
    "    'mean_imdb_rating' : None\n",
    "}).sort_values('language').reset_index(drop = True)\n",
    "\n",
    "fifth_language_data = pd.DataFrame({\n",
    "    'language' : movie_data['language_5'].value_counts().index,\n",
    "    'count' : movie_data['language_5'].value_counts(),\n",
    "    'mean_imdb_rating' : None\n",
    "}).sort_values('language').reset_index(drop = True)\n",
    "\n",
    "primary_language_data['language'].replace(' ', np.nan, inplace=True)\n",
    "secondary_language_data['language'].replace(' ', np.nan, inplace=True)\n",
    "ternary_language_data['language'].replace(' ', np.nan, inplace=True)\n",
    "fourth_language_data['language'].replace(' ', np.nan, inplace=True)\n",
    "fifth_language_data['language'].replace(' ', np.nan, inplace=True)\n",
    "\n",
    "primary_language_data.dropna(subset=['language'], inplace=True)\n",
    "secondary_language_data.dropna(subset=['language'], inplace=True)\n",
    "ternary_language_data.dropna(subset=['language'], inplace=True)\n",
    "fourth_language_data.dropna(subset=['language'], inplace=True)\n",
    "fifth_language_data.dropna(subset=['language'], inplace=True)\n",
    "\n",
    "for i in range(len(primary_language_data)):\n",
    "    language_filter = movie_data['language_1'] == primary_language_data.iloc[i,0]\n",
    "    filtered_movies = movie_data[language_filter]\n",
    "    primary_language_data.iloc[i,2] = round(filtered_movies['rating'].mean(), 3)\n",
    "\n",
    "for i in range(len(secondary_language_data)):\n",
    "    language_filter = movie_data['language_2'] == secondary_language_data.iloc[i,0]\n",
    "    filtered_movies = movie_data[language_filter]\n",
    "    secondary_language_data.iloc[i,2] = round(filtered_movies['rating'].mean(), 3)\n",
    "\n",
    "for i in range(len(ternary_language_data)):\n",
    "    language_filter = movie_data['language_3'] == ternary_language_data.iloc[i,0]\n",
    "    filtered_movies = movie_data[language_filter]\n",
    "    ternary_language_data.iloc[i,2] = round(filtered_movies['rating'].mean(), 3)\n",
    "\n",
    "for i in range(len(fourth_language_data)):\n",
    "    language_filter = movie_data['language_4'] == fourth_language_data.iloc[i,0]\n",
    "    filtered_movies = movie_data[language_filter]\n",
    "    fourth_language_data.iloc[i,2] = round(filtered_movies['rating'].mean(), 3)\n",
    "\n",
    "for i in range(len(fifth_language_data)):\n",
    "    language_filter = movie_data['language_5'] == fifth_language_data.iloc[i,0]\n",
    "    filtered_movies = movie_data[language_filter]\n",
    "    fifth_language_data.iloc[i,2] = round(filtered_movies['rating'].mean(), 3)\n",
    "\n",
    "primary_language_data_json = primary_language_data.to_dict('records')\n",
    "secondary_language_data_json = secondary_language_data.to_dict('records')\n",
    "ternary_language_data_json = ternary_language_data.to_dict('records')\n",
    "fourth_language_data_json = fourth_language_data.to_dict('records')\n",
    "fifth_language_data_json = fifth_language_data.to_dict('records')\n",
    "\n",
    "primary_language_data"
   ]
  },
  {
   "source": [
    "Extracting the country data"
   ],
   "cell_type": "markdown",
   "metadata": {}
  },
  {
   "cell_type": "code",
   "execution_count": 9,
   "metadata": {},
   "outputs": [
    {
     "output_type": "execute_result",
     "data": {
      "text/plain": [
       "         country  count mean_imdb_rating\n",
       "0      Argentina      2             8.15\n",
       "1      Australia      3              8.1\n",
       "2         Brazil      1              8.6\n",
       "3         Canada      2              8.2\n",
       "4        Denmark      1              8.3\n",
       "5         France      9            8.222\n",
       "6        Germany      6            8.233\n",
       "7      Hong Kong      1              8.1\n",
       "8          India      9            8.322\n",
       "9           Iran      2              8.3\n",
       "10       Ireland      1              8.1\n",
       "11         Italy      8            8.438\n",
       "12         Japan     16            8.325\n",
       "13       Lebanon      1              8.4\n",
       "14        Mexico      2             8.15\n",
       "15   New Zealand      3              8.8\n",
       "16   South Korea      4              8.3\n",
       "17  Soviet Union      3              8.2\n",
       "18         Spain      2             8.15\n",
       "19        Sweden      5             8.16\n",
       "20        Turkey      2             8.25\n",
       "21            UK     23            8.243\n",
       "22           USA    141            8.323\n",
       "23  West Germany      2              8.2\n",
       "24    Yugoslavia      1              8.2"
      ],
      "text/html": "<div>\n<style scoped>\n    .dataframe tbody tr th:only-of-type {\n        vertical-align: middle;\n    }\n\n    .dataframe tbody tr th {\n        vertical-align: top;\n    }\n\n    .dataframe thead th {\n        text-align: right;\n    }\n</style>\n<table border=\"1\" class=\"dataframe\">\n  <thead>\n    <tr style=\"text-align: right;\">\n      <th></th>\n      <th>country</th>\n      <th>count</th>\n      <th>mean_imdb_rating</th>\n    </tr>\n  </thead>\n  <tbody>\n    <tr>\n      <th>0</th>\n      <td>Argentina</td>\n      <td>2</td>\n      <td>8.15</td>\n    </tr>\n    <tr>\n      <th>1</th>\n      <td>Australia</td>\n      <td>3</td>\n      <td>8.1</td>\n    </tr>\n    <tr>\n      <th>2</th>\n      <td>Brazil</td>\n      <td>1</td>\n      <td>8.6</td>\n    </tr>\n    <tr>\n      <th>3</th>\n      <td>Canada</td>\n      <td>2</td>\n      <td>8.2</td>\n    </tr>\n    <tr>\n      <th>4</th>\n      <td>Denmark</td>\n      <td>1</td>\n      <td>8.3</td>\n    </tr>\n    <tr>\n      <th>5</th>\n      <td>France</td>\n      <td>9</td>\n      <td>8.222</td>\n    </tr>\n    <tr>\n      <th>6</th>\n      <td>Germany</td>\n      <td>6</td>\n      <td>8.233</td>\n    </tr>\n    <tr>\n      <th>7</th>\n      <td>Hong Kong</td>\n      <td>1</td>\n      <td>8.1</td>\n    </tr>\n    <tr>\n      <th>8</th>\n      <td>India</td>\n      <td>9</td>\n      <td>8.322</td>\n    </tr>\n    <tr>\n      <th>9</th>\n      <td>Iran</td>\n      <td>2</td>\n      <td>8.3</td>\n    </tr>\n    <tr>\n      <th>10</th>\n      <td>Ireland</td>\n      <td>1</td>\n      <td>8.1</td>\n    </tr>\n    <tr>\n      <th>11</th>\n      <td>Italy</td>\n      <td>8</td>\n      <td>8.438</td>\n    </tr>\n    <tr>\n      <th>12</th>\n      <td>Japan</td>\n      <td>16</td>\n      <td>8.325</td>\n    </tr>\n    <tr>\n      <th>13</th>\n      <td>Lebanon</td>\n      <td>1</td>\n      <td>8.4</td>\n    </tr>\n    <tr>\n      <th>14</th>\n      <td>Mexico</td>\n      <td>2</td>\n      <td>8.15</td>\n    </tr>\n    <tr>\n      <th>15</th>\n      <td>New Zealand</td>\n      <td>3</td>\n      <td>8.8</td>\n    </tr>\n    <tr>\n      <th>16</th>\n      <td>South Korea</td>\n      <td>4</td>\n      <td>8.3</td>\n    </tr>\n    <tr>\n      <th>17</th>\n      <td>Soviet Union</td>\n      <td>3</td>\n      <td>8.2</td>\n    </tr>\n    <tr>\n      <th>18</th>\n      <td>Spain</td>\n      <td>2</td>\n      <td>8.15</td>\n    </tr>\n    <tr>\n      <th>19</th>\n      <td>Sweden</td>\n      <td>5</td>\n      <td>8.16</td>\n    </tr>\n    <tr>\n      <th>20</th>\n      <td>Turkey</td>\n      <td>2</td>\n      <td>8.25</td>\n    </tr>\n    <tr>\n      <th>21</th>\n      <td>UK</td>\n      <td>23</td>\n      <td>8.243</td>\n    </tr>\n    <tr>\n      <th>22</th>\n      <td>USA</td>\n      <td>141</td>\n      <td>8.323</td>\n    </tr>\n    <tr>\n      <th>23</th>\n      <td>West Germany</td>\n      <td>2</td>\n      <td>8.2</td>\n    </tr>\n    <tr>\n      <th>24</th>\n      <td>Yugoslavia</td>\n      <td>1</td>\n      <td>8.2</td>\n    </tr>\n  </tbody>\n</table>\n</div>"
     },
     "metadata": {},
     "execution_count": 9
    }
   ],
   "source": [
    "primary_country_data = pd.DataFrame({\n",
    "    'country' : movie_data['country_1'].value_counts().index,\n",
    "    'count' : movie_data['country_1'].value_counts(),\n",
    "    'mean_imdb_rating' : None\n",
    "}).sort_values('country').reset_index(drop = True)\n",
    "\n",
    "secondary_country_data = pd.DataFrame({\n",
    "    'country' : movie_data['country_2'].value_counts().index,\n",
    "    'count' : movie_data['country_2'].value_counts(),\n",
    "    'mean_imdb_rating' : None\n",
    "}).sort_values('country').reset_index(drop = True)\n",
    "\n",
    "ternary_country_data = pd.DataFrame({\n",
    "    'country' : movie_data['country_3'].value_counts().index,\n",
    "    'count' : movie_data['country_3'].value_counts(),\n",
    "    'mean_imdb_rating' : None\n",
    "}).sort_values('country').reset_index(drop = True)\n",
    "\n",
    "extra_country_data = pd.DataFrame({\n",
    "    'country' : movie_data['country_4'].value_counts().index,\n",
    "    'count' : movie_data['country_4'].value_counts(),\n",
    "    'mean_imdb_rating' : None\n",
    "}).sort_values('country').reset_index(drop = True)\n",
    "\n",
    "primary_country_data['country'].replace(' ', np.nan, inplace=True)\n",
    "secondary_country_data['country'].replace(' ', np.nan, inplace=True)\n",
    "ternary_country_data['country'].replace(' ', np.nan, inplace=True)\n",
    "extra_country_data['country'].replace(' ', np.nan, inplace=True)\n",
    "\n",
    "primary_country_data.dropna(subset=['country'], inplace=True)\n",
    "secondary_country_data.dropna(subset=['country'], inplace=True)\n",
    "ternary_country_data.dropna(subset=['country'], inplace=True)\n",
    "extra_country_data.dropna(subset=['country'], inplace=True)\n",
    "\n",
    "for i in range(len(primary_country_data)):\n",
    "    country_filter = movie_data['country_1'] == primary_country_data.iloc[i,0]\n",
    "    filtered_movies = movie_data[country_filter]\n",
    "    primary_country_data.iloc[i,2] = round(filtered_movies['rating'].mean(), 3)\n",
    "\n",
    "for i in range(len(secondary_country_data)):\n",
    "    country_filter = movie_data['country_2'] == secondary_country_data.iloc[i,0]\n",
    "    filtered_movies = movie_data[country_filter]\n",
    "    secondary_country_data.iloc[i,2] = round(filtered_movies['rating'].mean(), 3)\n",
    "\n",
    "for i in range(len(ternary_country_data)):\n",
    "    country_filter = movie_data['country_3'] == ternary_country_data.iloc[i,0]\n",
    "    filtered_movies = movie_data[country_filter]\n",
    "    ternary_country_data.iloc[i,2] = round(filtered_movies['rating'].mean(), 3)\n",
    "\n",
    "for i in range(len(extra_country_data)):\n",
    "    country_filter = movie_data['country_4'] == extra_country_data.iloc[i,0]\n",
    "    filtered_movies = movie_data[country_filter]\n",
    "    extra_country_data.iloc[i,2] = round(filtered_movies['rating'].mean(), 3)\n",
    "\n",
    "primary_country_data_json = primary_country_data.to_dict('records')\n",
    "secondary_country_data_json = secondary_country_data.to_dict('records')\n",
    "ternary_country_data_json = ternary_country_data.to_dict('records')\n",
    "extra_country_data_json = extra_country_data.to_dict('records')\n",
    "\n",
    "primary_country_data"
   ]
  },
  {
   "source": [
    "\n",
    "Saving various Dataframes to CSV files"
   ],
   "cell_type": "markdown",
   "metadata": {}
  },
  {
   "cell_type": "code",
   "execution_count": 10,
   "metadata": {},
   "outputs": [
    {
     "output_type": "stream",
     "name": "stdout",
     "text": [
      "Successfully saved to CSV\n"
     ]
    }
   ],
   "source": [
    "no_movies_per_decade.to_csv('./src/data/no_movies_per_decade.csv')\n",
    "movie_budget_per_decade.to_csv('./src/data/movie_budget_per_decade.csv')\n",
    "movie_rating_per_decade.to_csv('./src/data/movie_rating_per_decade.csv')\n",
    "movie_votes_per_decade.to_csv('./src/data/movie_votes_per_decade.csv')\n",
    "\n",
    "censor_data.to_csv('./src/data/censor_data.csv')\n",
    "director_data.to_csv('./src/data/director_data.csv')\n",
    "\n",
    "production1_data.to_csv('./src/data/production1_data.csv')\n",
    "production2_data.to_csv('./src/data/production2_data.csv')\n",
    "production3_data.to_csv('./src/data/production3_data.csv')\n",
    "\n",
    "primary_genre_data.to_csv('./src/data/primary_genre_data.csv')\n",
    "secondary_genre_data.to_csv('./src/data/secondary_genre_data.csv')\n",
    "ternary_genre_data.to_csv('./src/data/ternary_genre_data.csv')\n",
    "extra_genre_data.to_csv('./src/data/extra_genre_data.csv')\n",
    "\n",
    "primary_language_data.to_csv('./src/data/primary_language_data.csv')\n",
    "secondary_language_data.to_csv('./src/data/secondary_language_data.csv')\n",
    "ternary_language_data.to_csv('./src/data/ternary_language_data.csv')\n",
    "fourth_language_data.to_csv('./src/data/fourth_language_data.csv')\n",
    "fifth_language_data.to_csv('./src/data/fifth_language_data.csv')\n",
    "\n",
    "primary_country_data.to_csv('./src/data/primary_country_data.csv')\n",
    "secondary_country_data.to_csv('./src/data/secondary_country_data.csv')\n",
    "ternary_country_data.to_csv('./src/data/ternary_country_data.csv')\n",
    "extra_country_data.to_csv('./src/data/extra_country_data.csv')\n",
    "\n",
    "print(\"Successfully saved to CSV\")"
   ]
  },
  {
   "source": [
    "Saving data to JSON"
   ],
   "cell_type": "markdown",
   "metadata": {}
  },
  {
   "cell_type": "code",
   "execution_count": 11,
   "metadata": {},
   "outputs": [
    {
     "output_type": "stream",
     "name": "stdout",
     "text": [
      "Successfully saved to JSON file\n"
     ]
    }
   ],
   "source": [
    "imdb_movie_analysis_data = {\n",
    "    'no_movies_per_decade' : no_movies_per_decade_json,\n",
    "    'movie_budget_per_decade' : movie_budget_per_decade_json,\n",
    "    'movie_rating_per_decade' : movie_rating_per_decade_json,\n",
    "    'movie_votes_per_decade' : movie_votes_per_decade_json,\n",
    "    'censor_data' : censor_data_json,\n",
    "    'director_data' : director_data_json,\n",
    "    'production1_data' : production1_data_json,\n",
    "    'production2_data' : production2_data_json,\n",
    "    'production3_data' : production3_data_json,\n",
    "    'primary_genre_data' : primary_genre_data_json,\n",
    "    'secondary_genre_data' : secondary_genre_data_json,\n",
    "    'ternary_genre_data' : ternary_genre_data_json,\n",
    "    'extra_genre_data' : extra_genre_data_json,\n",
    "    'primary_language_data' : primary_language_data_json,\n",
    "    'secondary_language_data' : secondary_language_data_json,\n",
    "    'ternary_language_data' : ternary_language_data_json,\n",
    "    'fourth_language_data' : fourth_language_data_json,\n",
    "    'fifth_language_data' : fifth_language_data_json,\n",
    "    'primary_country_data' : primary_country_data_json,\n",
    "    'secondary_country_data' : secondary_country_data_json,\n",
    "    'ternary_country_data' : ternary_country_data_json,\n",
    "    'extra_country_data' : extra_country_data_json,\n",
    "}\n",
    "\n",
    "with open('./src/data/imdb_movie_analysis_data.json', 'w') as file:\n",
    "    json.dump(imdb_movie_analysis_data, file)\n",
    "print(\"Successfully saved to JSON file\")"
   ]
  },
  {
   "cell_type": "code",
   "execution_count": null,
   "metadata": {},
   "outputs": [],
   "source": []
  }
 ]
}