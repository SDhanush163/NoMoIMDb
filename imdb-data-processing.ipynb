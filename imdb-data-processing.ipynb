{
 "metadata": {
  "language_info": {
   "codemirror_mode": {
    "name": "ipython",
    "version": 3
   },
   "file_extension": ".py",
   "mimetype": "text/x-python",
   "name": "python",
   "nbconvert_exporter": "python",
   "pygments_lexer": "ipython3",
   "version": "3.7.4-final"
  },
  "orig_nbformat": 2,
  "kernelspec": {
   "name": "python3",
   "display_name": "Python 3.7.4 64-bit",
   "metadata": {
    "interpreter": {
     "hash": "04635d289a519a1410467dd0afb0db42f9184808881ca68b2eb5a687a20a5a94"
    }
   }
  }
 },
 "nbformat": 4,
 "nbformat_minor": 2,
 "cells": [
  {
   "source": [
    "# IMDb Data Processing\n",
    "- Retrieve data from [IMDb top 250](https://www.imdb.com/chart/top)\n",
    "- Create JSON Object file\n",
    "- Create pandas dataframe for data analysis "
   ],
   "cell_type": "markdown",
   "metadata": {}
  },
  {
   "source": [
    "## Data retrieval\n",
    "Import required packages. <br />\n",
    "Install the additional dependencies before running the script (If you don't have them installed prior)\n",
    " - pip install [requests](https://pypi.org/project/requests/)\n",
    " - pip install [beautifulsoup4](https://pypi.org/project/beautifulsoup4/)\n",
    " - pip install [pandas](https://pypi.org/project/pandas/)\n",
    " - pip install [tqdm](https://pypi.org/project/tqdm/) \n"
   ],
   "cell_type": "markdown",
   "metadata": {}
  },
  {
   "cell_type": "code",
   "execution_count": 1,
   "metadata": {},
   "outputs": [],
   "source": [
    "import requests                 # Simpler HTTP requests \n",
    "from bs4 import BeautifulSoup   # Python package for pulling data out of HTML and XML files\n",
    "import pandas as pd             # Python package for data manipulation and analysis\n",
    "import re                       # regular expressions\n",
    "import json                     # Python package used to work with JSON data\n",
    "from tqdm import tqdm           # python for displaying progressbar \n",
    "from datetime import datetime   # python package to retireve DateTime"
   ]
  },
  {
   "source": [
    "Get the session and pull Soup data from the HTML"
   ],
   "cell_type": "markdown",
   "metadata": {}
  },
  {
   "cell_type": "code",
   "execution_count": 2,
   "metadata": {},
   "outputs": [],
   "source": [
    "url = 'https://www.imdb.com/chart/top'              # IMDb Top 250 list link\n",
    "url_text = requests.get(url).text                    # Get the session text for the link\n",
    "url_soup = BeautifulSoup(url_text, 'html.parser')   # Get data from the HTML\n"
   ]
  },
  {
   "source": [
    "Get the different fields from the top 250 list"
   ],
   "cell_type": "markdown",
   "metadata": {}
  },
  {
   "cell_type": "code",
   "execution_count": 3,
   "metadata": {
    "tags": []
   },
   "outputs": [
    {
     "output_type": "stream",
     "name": "stderr",
     "text": [
      "Movies processed: 100%|███████████████████████████████████████████| 250/250 [08:23<00:00,  2.02s/it]\n"
     ]
    }
   ],
   "source": [
    "template = 'https://www.imdb.com%s'\n",
    "\n",
    "# Get the title links for all the pages\n",
    "title_links = [template % a.attrs.get('href') for a in url_soup.select('td.titleColumn a')]\n",
    "\n",
    "imdb_movie_list = []\n",
    "# Getting the various fields and creating a list of objects with details\n",
    "#   - ranking | movie_name | url | year | rating | vote_count | summary | production | director | writer_1 | writer_2\n",
    "#   - genre_1 | genre_2 | genre_3 | genre_4 | release date | censor_rating | movie_length | country | language\n",
    "#   - budget | gross_worldwide | gross_usa | opening_week_usa\n",
    "\n",
    "for i in tqdm(range(0, len(title_links)), desc=\"Movies processed\", ncols=100):\n",
    "    page_url = title_links[i]\n",
    "    page_text = requests.get(page_url).text\n",
    "    page_soup = BeautifulSoup(page_text, 'html.parser')\n",
    "\n",
    "    # ------------------------------------------------------------------------------------------\n",
    "    # Getting movie name, year, rating and number of votes\n",
    "    movie_name = (page_soup.find(\"div\",{\"class\":\"title_wrapper\"}).get_text(strip=True).split('|')[0]).split('(')[0]\n",
    "    year = ((page_soup.find(\"div\",{\"class\":\"title_wrapper\"}).get_text(strip=True).split('|')[0]).split('(')[1]).split(')')[0]\n",
    "    rating = page_soup.find(\"span\",{\"itemprop\":\"ratingValue\"}).text\n",
    "    vote_count = page_soup.find(\"span\",{\"itemprop\":\"ratingCount\"}).text\n",
    "\n",
    "    # ------------------------------------------------------------------------------------------\n",
    "    # Getting censor rating, movie length, genre list, rlease date and \n",
    "    # country from the subtext\n",
    "    subtext= page_soup.find(\"div\",{\"class\":\"subtext\"}).get_text(strip=True).split('|')\n",
    "    \n",
    "    if len(subtext) < 4:\n",
    "        # Setting values when the movie is unrated\n",
    "        censor_rating = \"No rating\"\n",
    "        movie_length = subtext[0]\n",
    "        genre_list = subtext[1].split(',')\n",
    "\n",
    "        while len(genre_list) < 4: genre_list.append(' ')\n",
    "        genre_1, genre_2, genre_3, genre_4 = genre_list\n",
    "        \n",
    "        release_date_and_country = subtext[2].split('(')\n",
    "        release_date = movie_length_and_country[0]\n",
    "    else: \n",
    "        censor_rating = subtext[0]\n",
    "        movie_length = subtext[1]\n",
    "        genre_list = subtext[2].split(',')\n",
    "\n",
    "        while len(genre_list) < 4: genre_list.append(' ')\n",
    "\n",
    "        movie_length_and_country = subtext[3].split('(')\n",
    "        release_date = movie_length_and_country[0]\n",
    "\n",
    "    # ------------------------------------------------------------------------------------------\n",
    "    # Getting the movie summary\n",
    "    summary = page_soup.find(\"div\",{\"class\":\"summary_text\"}).get_text(strip=True).strip()\n",
    "    \n",
    "    # ------------------------------------------------------------------------------------------\n",
    "    # Getting the credits for the director and writers\n",
    "    credit_summary = []\n",
    "    for summary_item in page_soup.find_all(\"div\",{\"class\":\"credit_summary_item\"}):\n",
    "        credit_summary.append(re.split(',|:|\\|',summary_item.get_text(strip=True)))\n",
    "    \n",
    "    credit_summary.pop()\n",
    "    writers = credit_summary.pop()[1:3]\n",
    "    director = credit_summary.pop()[1:]\n",
    "    \n",
    "    while len(writers) < 2: writers.append(\" \")\n",
    "    writer_1, writer_2 = writers\n",
    "    writer_1 = writer_1.split('(')[0]\n",
    "    writer_2 = writer_2.split('(')[0]\n",
    "\n",
    "    # ------------------------------------------------------------------------------------------\n",
    "    # Getting the box office details for language, budget, Opening Weekend USA, \n",
    "    # Gross income worldwide and USA, and production company\n",
    "    box_office_details = []\n",
    "    box_office_dictionary = {'Country':'','Language':'','Budget':'', 'Opening Weekend USA':'','Gross USA':'','Cumulative Worldwide Gross':'','Production Co':''}\n",
    "    for details in page_soup.find_all(\"div\",{\"class\":\"txt-block\"}):\n",
    "        detail = details.get_text(strip=True).split(':')\n",
    "        if detail[0] in box_office_dictionary:\n",
    "            box_office_details.append(detail)\n",
    "    \n",
    "    for detail in box_office_details: \n",
    "        if detail[0] in box_office_dictionary: \n",
    "            box_office_dictionary.update({detail[0] : detail[1]}) \n",
    "\n",
    "    country = box_office_dictionary['Country'].split(\"|\")\n",
    "    while len(country) < 4: country.append(' ')\n",
    "\n",
    "    language = box_office_dictionary['Language'].split(\"|\")\n",
    "    while len(language) < 5: language.append(' ')\n",
    "\n",
    "    budget = box_office_dictionary['Budget'].split('(')[0]\n",
    "\n",
    "    opening_week_usa = ','.join((box_office_dictionary['Opening Weekend USA'].split(' ')[0]).split(',')[:-1])\n",
    "\n",
    "    gross_usa = box_office_dictionary['Gross USA']\n",
    "    gross_worldwide = box_office_dictionary['Cumulative Worldwide Gross'].split(' ')[0]\n",
    "    production = box_office_dictionary['Production Co'].split('See more')[0]\n",
    "\n",
    "    movie_dict = { 'ranking': i+1, 'movie_name': movie_name, 'url': page_url, 'year': year,\n",
    "        'rating': rating, 'vote_count': vote_count, 'summary': summary, 'production': production,\n",
    "        'director': director, 'writers': [writer_1, writer_2], 'genres': genre_list, 'release_date': release_date,\n",
    "        'censor_rating': censor_rating, 'movie_length': movie_length, 'country': country,\n",
    "        'language': language, 'budget': budget, 'gross_worldwide': gross_worldwide,\n",
    "        'gross_usa': gross_usa,'opening_week_usa': opening_week_usa }\n",
    "\n",
    "    imdb_movie_list.append(movie_dict)"
   ]
  },
  {
   "source": [
    "## JSON Object file creation\n",
    "Sample JSON data"
   ],
   "cell_type": "markdown",
   "metadata": {}
  },
  {
   "cell_type": "code",
   "execution_count": 4,
   "metadata": {
    "tags": []
   },
   "outputs": [
    {
     "output_type": "stream",
     "name": "stdout",
     "text": [
      "{'ranking': 1, 'movie_name': 'The Shawshank Redemption', 'url': 'https://www.imdb.com/title/tt0111161/', 'year': '1994', 'rating': '9.3', 'vote_count': '2,325,797', 'summary': 'Two imprisoned men bond over a number of years, finding solace and eventual redemption through acts of common decency.', 'production': 'Castle Rock Entertainment', 'director': ['Frank Darabont'], 'writers': ['Stephen King', 'Frank Darabont'], 'genres': ['Drama', ' ', ' ', ' '], 'release_date': '14 October 1994 ', 'censor_rating': 'A', 'movie_length': '2h 22min', 'country': ['USA', ' ', ' ', ' '], 'language': ['English', ' ', ' ', ' ', ' '], 'budget': '$25,000,000', 'gross_worldwide': '$28,817,291', 'gross_usa': '$28,699,976', 'opening_week_usa': '$727,327'} \n\n{'ranking': 2, 'movie_name': 'The Godfather', 'url': 'https://www.imdb.com/title/tt0068646/', 'year': '1972', 'rating': '9.2', 'vote_count': '1,606,921', 'summary': 'The aging patriarch of an organized crime dynasty transfers control of his clandestine empire to his reluctant son.', 'production': 'Paramount Pictures,Alfran Productions', 'director': ['Francis Ford Coppola'], 'writers': ['Mario Puzo', 'Francis Ford Coppola'], 'genres': ['Crime', 'Drama', ' ', ' '], 'release_date': '24 March 1972 ', 'censor_rating': 'A', 'movie_length': '2h 55min', 'country': ['USA', ' ', ' ', ' '], 'language': ['English', 'Italian', 'Latin', ' ', ' '], 'budget': '$6,000,000', 'gross_worldwide': '$246,120,986', 'gross_usa': '$134,966,411', 'opening_week_usa': '$302,393'} \n\n{'ranking': 3, 'movie_name': 'The Godfather: Part II', 'url': 'https://www.imdb.com/title/tt0071562/', 'year': '1974', 'rating': '9.0', 'vote_count': '1,121,888', 'summary': 'The early life and career of Vito Corleone in 1920s New York City is portrayed, while his son, Michael, expands and tightens his grip on the family crime syndicate.', 'production': 'Paramount Pictures,The Coppola Company,American Zoetrope', 'director': ['Francis Ford Coppola'], 'writers': ['Francis Ford Coppola', 'Mario Puzo'], 'genres': ['Crime', 'Drama', ' ', ' '], 'release_date': '2 May 2020 ', 'censor_rating': 'A', 'movie_length': '3h 22min', 'country': ['USA', ' ', ' ', ' '], 'language': ['English', 'Italian', 'Spanish', 'Latin', 'Sicilian'], 'budget': '$13,000,000', 'gross_worldwide': '$48,035,783', 'gross_usa': '$47,834,595', 'opening_week_usa': '$171,417'} \n\n{'ranking': 4, 'movie_name': 'The Dark Knight', 'url': 'https://www.imdb.com/title/tt0468569/', 'year': '2008', 'rating': '9.0', 'vote_count': '2,287,611', 'summary': 'When the menace known as the Joker wreaks havoc and chaos on the people of Gotham, Batman must accept one of the greatest psychological and physical tests of his ability to fight injustice.', 'production': 'Warner Bros.,Legendary Entertainment,Syncopy', 'director': ['Christopher Nolan'], 'writers': ['Jonathan Nolan', 'Christopher Nolan'], 'genres': ['Action', 'Crime', 'Drama', ' '], 'release_date': '18 July 2008 ', 'censor_rating': 'UA', 'movie_length': '2h 32min', 'country': ['USA', 'UK', ' ', ' '], 'language': ['English', 'Mandarin', ' ', ' ', ' '], 'budget': '$185,000,000', 'gross_worldwide': '$1,005,973,645', 'gross_usa': '$534,858,444', 'opening_week_usa': '$158,411,483'} \n\n{'ranking': 5, 'movie_name': '12 Angry Men', 'url': 'https://www.imdb.com/title/tt0050083/', 'year': '1957', 'rating': '9.0', 'vote_count': '684,546', 'summary': 'A jury holdout attempts to prevent a miscarriage of justice by forcing his colleagues to reconsider the evidence.', 'production': 'Orion-Nova Productions', 'director': ['Sidney Lumet'], 'writers': ['Reginald Rose', 'Reginald Rose'], 'genres': ['Crime', 'Drama', ' ', ' '], 'release_date': '10 April 1957 ', 'censor_rating': 'U', 'movie_length': '1h 36min', 'country': ['USA', ' ', ' ', ' '], 'language': ['English', ' ', ' ', ' ', ' '], 'budget': '$350,000', 'gross_worldwide': '$576', 'gross_usa': '', 'opening_week_usa': ''} \n\n"
     ]
    }
   ],
   "source": [
    "timestamp =  datetime.now().strftime('%Y-%m-%dT%H:%M:%S.%f')\n",
    "imdb_list = {\n",
    "    \"timestamp\" : timestamp,\n",
    "    \"imdb_movies\" : imdb_movie_list\n",
    "}\n",
    "for i in range(0, 5):\n",
    "    print(imdb_movie_list[i],'\\n')"
   ]
  },
  {
   "source": [
    "Store the array in a JSON file"
   ],
   "cell_type": "markdown",
   "metadata": {}
  },
  {
   "cell_type": "code",
   "execution_count": 5,
   "metadata": {},
   "outputs": [
    {
     "output_type": "stream",
     "name": "stdout",
     "text": [
      "Successfully saved to JSON file\n"
     ]
    }
   ],
   "source": [
    "with open('./src/data/imdb_movies_data.json', 'w') as file:\n",
    "    json.dump(imdb_list, file)\n",
    "print(\"Successfully saved to JSON file\")\n"
   ]
  },
  {
   "source": [
    "## Dataframe file creation\n",
    "Initializing the dataframe"
   ],
   "cell_type": "markdown",
   "metadata": {}
  },
  {
   "cell_type": "code",
   "execution_count": 6,
   "metadata": {},
   "outputs": [
    {
     "output_type": "execute_result",
     "data": {
      "text/plain": [
       "Empty DataFrame\n",
       "Columns: [ranking, movie_name, url, year, rating, vote_count, summary, production, director, writer_1, writer_2, genre_1, genre_2, genre_3, genre_4, release_date, censor_rating, movie_length, country_1, country_2, country_3, country_4, language_1, language_2, language_3, language_4, language_5, budget, gross_worldwide, gross_usa, opening_week_usa]\n",
       "Index: []\n",
       "\n",
       "[0 rows x 31 columns]"
      ],
      "text/html": "<div>\n<style scoped>\n    .dataframe tbody tr th:only-of-type {\n        vertical-align: middle;\n    }\n\n    .dataframe tbody tr th {\n        vertical-align: top;\n    }\n\n    .dataframe thead th {\n        text-align: right;\n    }\n</style>\n<table border=\"1\" class=\"dataframe\">\n  <thead>\n    <tr style=\"text-align: right;\">\n      <th></th>\n      <th>ranking</th>\n      <th>movie_name</th>\n      <th>url</th>\n      <th>year</th>\n      <th>rating</th>\n      <th>vote_count</th>\n      <th>summary</th>\n      <th>production</th>\n      <th>director</th>\n      <th>writer_1</th>\n      <th>...</th>\n      <th>country_4</th>\n      <th>language_1</th>\n      <th>language_2</th>\n      <th>language_3</th>\n      <th>language_4</th>\n      <th>language_5</th>\n      <th>budget</th>\n      <th>gross_worldwide</th>\n      <th>gross_usa</th>\n      <th>opening_week_usa</th>\n    </tr>\n  </thead>\n  <tbody>\n  </tbody>\n</table>\n<p>0 rows × 31 columns</p>\n</div>"
     },
     "metadata": {},
     "execution_count": 6
    }
   ],
   "source": [
    "dataframe_columns = [ 'ranking', 'movie_name', 'url', 'year', 'rating', 'vote_count', 'summary', 'production',\n",
    "        'director', 'writer_1', 'writer_2', 'genre_1', 'genre_2', 'genre_3', 'genre_4','release_date', 'censor_rating', \n",
    "        'movie_length', 'country_1', 'country_2', 'country_3', 'country_4', 'language_1', 'language_2', 'language_3', \n",
    "        'language_4', 'language_5', 'budget', 'gross_worldwide', 'gross_usa','opening_week_usa']\n",
    "dataframe = pd.DataFrame(columns=dataframe_columns)\n",
    "dataframe"
   ]
  },
  {
   "source": [
    "Parse data into the dataframe"
   ],
   "cell_type": "markdown",
   "metadata": {}
  },
  {
   "cell_type": "code",
   "execution_count": 7,
   "metadata": {},
   "outputs": [
    {
     "output_type": "execute_result",
     "data": {
      "text/plain": [
       "        ranking                                         movie_name  \\\n",
       "ranking                                                              \n",
       "1             1                           The Shawshank Redemption   \n",
       "2             2                                      The Godfather   \n",
       "3             3                             The Godfather: Part II   \n",
       "4             4                                    The Dark Knight   \n",
       "5             5                                       12 Angry Men   \n",
       "6             6                                   Schindler's List   \n",
       "7             7      The Lord of the Rings: The Return of the King   \n",
       "8             8                                       Pulp Fiction   \n",
       "9             9                    Il buono, il brutto, il cattivo   \n",
       "10           10  The Lord of the Rings: The Fellowship of the Ring   \n",
       "\n",
       "                                           url  year rating vote_count  \\\n",
       "ranking                                                                  \n",
       "1        https://www.imdb.com/title/tt0111161/  1994    9.3  2,325,797   \n",
       "2        https://www.imdb.com/title/tt0068646/  1972    9.2  1,606,921   \n",
       "3        https://www.imdb.com/title/tt0071562/  1974    9.0  1,121,888   \n",
       "4        https://www.imdb.com/title/tt0468569/  2008    9.0  2,287,611   \n",
       "5        https://www.imdb.com/title/tt0050083/  1957    9.0    684,546   \n",
       "6        https://www.imdb.com/title/tt0108052/  1993    8.9  1,205,876   \n",
       "7        https://www.imdb.com/title/tt0167260/  2003    8.9  1,632,410   \n",
       "8        https://www.imdb.com/title/tt0110912/  1994    8.9  1,813,993   \n",
       "9        https://www.imdb.com/title/tt0060196/  1966    8.8    684,295   \n",
       "10       https://www.imdb.com/title/tt0120737/  2001    8.8  1,649,091   \n",
       "\n",
       "                                                   summary  \\\n",
       "ranking                                                      \n",
       "1        Two imprisoned men bond over a number of years...   \n",
       "2        The aging patriarch of an organized crime dyna...   \n",
       "3        The early life and career of Vito Corleone in ...   \n",
       "4        When the menace known as the Joker wreaks havo...   \n",
       "5        A jury holdout attempts to prevent a miscarria...   \n",
       "6        In German-occupied Poland during World War II,...   \n",
       "7        Gandalf and Aragorn lead the World of Men agai...   \n",
       "8        The lives of two mob hitmen, a boxer, a gangst...   \n",
       "9        A bounty hunting scam joins two men in an unea...   \n",
       "10       A meek Hobbit from the Shire and eight compani...   \n",
       "\n",
       "                                                production  \\\n",
       "ranking                                                      \n",
       "1                                Castle Rock Entertainment   \n",
       "2                    Paramount Pictures,Alfran Productions   \n",
       "3        Paramount Pictures,The Coppola Company,America...   \n",
       "4             Warner Bros.,Legendary Entertainment,Syncopy   \n",
       "5                                   Orion-Nova Productions   \n",
       "6                  Universal Pictures,Amblin Entertainment   \n",
       "7        New Line Cinema,WingNut Films,The Saul Zaentz ...   \n",
       "8                        Miramax,A Band Apart,Jersey Films   \n",
       "9        Produzioni Europee Associate (PEA),Arturo Gonz...   \n",
       "10       New Line Cinema,WingNut Films,The Saul Zaentz ...   \n",
       "\n",
       "                     director              writer_1  ... country_4 language_1  \\\n",
       "ranking                                              ...                        \n",
       "1              Frank Darabont          Stephen King  ...              English   \n",
       "2        Francis Ford Coppola            Mario Puzo  ...              English   \n",
       "3        Francis Ford Coppola  Francis Ford Coppola  ...              English   \n",
       "4           Christopher Nolan        Jonathan Nolan  ...              English   \n",
       "5                Sidney Lumet         Reginald Rose  ...              English   \n",
       "6            Steven Spielberg       Thomas Keneally  ...              English   \n",
       "7               Peter Jackson        J.R.R. Tolkien  ...              English   \n",
       "8           Quentin Tarantino     Quentin Tarantino  ...              English   \n",
       "9                Sergio Leone    Luciano Vincenzoni  ...              Italian   \n",
       "10              Peter Jackson        J.R.R. Tolkien  ...              English   \n",
       "\n",
       "        language_2   language_3 language_4 language_5        budget  \\\n",
       "ranking                                                               \n",
       "1                                                       $25,000,000   \n",
       "2          Italian        Latin                          $6,000,000   \n",
       "3          Italian      Spanish      Latin   Sicilian   $13,000,000   \n",
       "4         Mandarin                                     $185,000,000   \n",
       "5                                                          $350,000   \n",
       "6           Hebrew       German     Polish      Latin   $22,000,000   \n",
       "7           Quenya  Old English   Sindarin              $94,000,000   \n",
       "8          Spanish       French                          $8,000,000   \n",
       "9                                                        $1,200,000   \n",
       "10        Sindarin                                      $93,000,000   \n",
       "\n",
       "        gross_worldwide     gross_usa opening_week_usa  \n",
       "ranking                                                 \n",
       "1           $28,817,291   $28,699,976         $727,327  \n",
       "2          $246,120,986  $134,966,411         $302,393  \n",
       "3           $48,035,783   $47,834,595         $171,417  \n",
       "4        $1,005,973,645  $534,858,444     $158,411,483  \n",
       "5                  $576                                 \n",
       "6          $322,161,245   $96,898,818         $656,636  \n",
       "7        $1,142,456,987  $377,845,905      $72,629,713  \n",
       "8          $213,928,762  $107,928,762       $9,311,882  \n",
       "9           $25,252,927   $25,100,000                   \n",
       "10         $888,159,092  $315,544,750      $47,211,490  \n",
       "\n",
       "[10 rows x 31 columns]"
      ],
      "text/html": "<div>\n<style scoped>\n    .dataframe tbody tr th:only-of-type {\n        vertical-align: middle;\n    }\n\n    .dataframe tbody tr th {\n        vertical-align: top;\n    }\n\n    .dataframe thead th {\n        text-align: right;\n    }\n</style>\n<table border=\"1\" class=\"dataframe\">\n  <thead>\n    <tr style=\"text-align: right;\">\n      <th></th>\n      <th>ranking</th>\n      <th>movie_name</th>\n      <th>url</th>\n      <th>year</th>\n      <th>rating</th>\n      <th>vote_count</th>\n      <th>summary</th>\n      <th>production</th>\n      <th>director</th>\n      <th>writer_1</th>\n      <th>...</th>\n      <th>country_4</th>\n      <th>language_1</th>\n      <th>language_2</th>\n      <th>language_3</th>\n      <th>language_4</th>\n      <th>language_5</th>\n      <th>budget</th>\n      <th>gross_worldwide</th>\n      <th>gross_usa</th>\n      <th>opening_week_usa</th>\n    </tr>\n    <tr>\n      <th>ranking</th>\n      <th></th>\n      <th></th>\n      <th></th>\n      <th></th>\n      <th></th>\n      <th></th>\n      <th></th>\n      <th></th>\n      <th></th>\n      <th></th>\n      <th></th>\n      <th></th>\n      <th></th>\n      <th></th>\n      <th></th>\n      <th></th>\n      <th></th>\n      <th></th>\n      <th></th>\n      <th></th>\n      <th></th>\n    </tr>\n  </thead>\n  <tbody>\n    <tr>\n      <th>1</th>\n      <td>1</td>\n      <td>The Shawshank Redemption</td>\n      <td>https://www.imdb.com/title/tt0111161/</td>\n      <td>1994</td>\n      <td>9.3</td>\n      <td>2,325,797</td>\n      <td>Two imprisoned men bond over a number of years...</td>\n      <td>Castle Rock Entertainment</td>\n      <td>Frank Darabont</td>\n      <td>Stephen King</td>\n      <td>...</td>\n      <td></td>\n      <td>English</td>\n      <td></td>\n      <td></td>\n      <td></td>\n      <td></td>\n      <td>$25,000,000</td>\n      <td>$28,817,291</td>\n      <td>$28,699,976</td>\n      <td>$727,327</td>\n    </tr>\n    <tr>\n      <th>2</th>\n      <td>2</td>\n      <td>The Godfather</td>\n      <td>https://www.imdb.com/title/tt0068646/</td>\n      <td>1972</td>\n      <td>9.2</td>\n      <td>1,606,921</td>\n      <td>The aging patriarch of an organized crime dyna...</td>\n      <td>Paramount Pictures,Alfran Productions</td>\n      <td>Francis Ford Coppola</td>\n      <td>Mario Puzo</td>\n      <td>...</td>\n      <td></td>\n      <td>English</td>\n      <td>Italian</td>\n      <td>Latin</td>\n      <td></td>\n      <td></td>\n      <td>$6,000,000</td>\n      <td>$246,120,986</td>\n      <td>$134,966,411</td>\n      <td>$302,393</td>\n    </tr>\n    <tr>\n      <th>3</th>\n      <td>3</td>\n      <td>The Godfather: Part II</td>\n      <td>https://www.imdb.com/title/tt0071562/</td>\n      <td>1974</td>\n      <td>9.0</td>\n      <td>1,121,888</td>\n      <td>The early life and career of Vito Corleone in ...</td>\n      <td>Paramount Pictures,The Coppola Company,America...</td>\n      <td>Francis Ford Coppola</td>\n      <td>Francis Ford Coppola</td>\n      <td>...</td>\n      <td></td>\n      <td>English</td>\n      <td>Italian</td>\n      <td>Spanish</td>\n      <td>Latin</td>\n      <td>Sicilian</td>\n      <td>$13,000,000</td>\n      <td>$48,035,783</td>\n      <td>$47,834,595</td>\n      <td>$171,417</td>\n    </tr>\n    <tr>\n      <th>4</th>\n      <td>4</td>\n      <td>The Dark Knight</td>\n      <td>https://www.imdb.com/title/tt0468569/</td>\n      <td>2008</td>\n      <td>9.0</td>\n      <td>2,287,611</td>\n      <td>When the menace known as the Joker wreaks havo...</td>\n      <td>Warner Bros.,Legendary Entertainment,Syncopy</td>\n      <td>Christopher Nolan</td>\n      <td>Jonathan Nolan</td>\n      <td>...</td>\n      <td></td>\n      <td>English</td>\n      <td>Mandarin</td>\n      <td></td>\n      <td></td>\n      <td></td>\n      <td>$185,000,000</td>\n      <td>$1,005,973,645</td>\n      <td>$534,858,444</td>\n      <td>$158,411,483</td>\n    </tr>\n    <tr>\n      <th>5</th>\n      <td>5</td>\n      <td>12 Angry Men</td>\n      <td>https://www.imdb.com/title/tt0050083/</td>\n      <td>1957</td>\n      <td>9.0</td>\n      <td>684,546</td>\n      <td>A jury holdout attempts to prevent a miscarria...</td>\n      <td>Orion-Nova Productions</td>\n      <td>Sidney Lumet</td>\n      <td>Reginald Rose</td>\n      <td>...</td>\n      <td></td>\n      <td>English</td>\n      <td></td>\n      <td></td>\n      <td></td>\n      <td></td>\n      <td>$350,000</td>\n      <td>$576</td>\n      <td></td>\n      <td></td>\n    </tr>\n    <tr>\n      <th>6</th>\n      <td>6</td>\n      <td>Schindler's List</td>\n      <td>https://www.imdb.com/title/tt0108052/</td>\n      <td>1993</td>\n      <td>8.9</td>\n      <td>1,205,876</td>\n      <td>In German-occupied Poland during World War II,...</td>\n      <td>Universal Pictures,Amblin Entertainment</td>\n      <td>Steven Spielberg</td>\n      <td>Thomas Keneally</td>\n      <td>...</td>\n      <td></td>\n      <td>English</td>\n      <td>Hebrew</td>\n      <td>German</td>\n      <td>Polish</td>\n      <td>Latin</td>\n      <td>$22,000,000</td>\n      <td>$322,161,245</td>\n      <td>$96,898,818</td>\n      <td>$656,636</td>\n    </tr>\n    <tr>\n      <th>7</th>\n      <td>7</td>\n      <td>The Lord of the Rings: The Return of the King</td>\n      <td>https://www.imdb.com/title/tt0167260/</td>\n      <td>2003</td>\n      <td>8.9</td>\n      <td>1,632,410</td>\n      <td>Gandalf and Aragorn lead the World of Men agai...</td>\n      <td>New Line Cinema,WingNut Films,The Saul Zaentz ...</td>\n      <td>Peter Jackson</td>\n      <td>J.R.R. Tolkien</td>\n      <td>...</td>\n      <td></td>\n      <td>English</td>\n      <td>Quenya</td>\n      <td>Old English</td>\n      <td>Sindarin</td>\n      <td></td>\n      <td>$94,000,000</td>\n      <td>$1,142,456,987</td>\n      <td>$377,845,905</td>\n      <td>$72,629,713</td>\n    </tr>\n    <tr>\n      <th>8</th>\n      <td>8</td>\n      <td>Pulp Fiction</td>\n      <td>https://www.imdb.com/title/tt0110912/</td>\n      <td>1994</td>\n      <td>8.9</td>\n      <td>1,813,993</td>\n      <td>The lives of two mob hitmen, a boxer, a gangst...</td>\n      <td>Miramax,A Band Apart,Jersey Films</td>\n      <td>Quentin Tarantino</td>\n      <td>Quentin Tarantino</td>\n      <td>...</td>\n      <td></td>\n      <td>English</td>\n      <td>Spanish</td>\n      <td>French</td>\n      <td></td>\n      <td></td>\n      <td>$8,000,000</td>\n      <td>$213,928,762</td>\n      <td>$107,928,762</td>\n      <td>$9,311,882</td>\n    </tr>\n    <tr>\n      <th>9</th>\n      <td>9</td>\n      <td>Il buono, il brutto, il cattivo</td>\n      <td>https://www.imdb.com/title/tt0060196/</td>\n      <td>1966</td>\n      <td>8.8</td>\n      <td>684,295</td>\n      <td>A bounty hunting scam joins two men in an unea...</td>\n      <td>Produzioni Europee Associate (PEA),Arturo Gonz...</td>\n      <td>Sergio Leone</td>\n      <td>Luciano Vincenzoni</td>\n      <td>...</td>\n      <td></td>\n      <td>Italian</td>\n      <td></td>\n      <td></td>\n      <td></td>\n      <td></td>\n      <td>$1,200,000</td>\n      <td>$25,252,927</td>\n      <td>$25,100,000</td>\n      <td></td>\n    </tr>\n    <tr>\n      <th>10</th>\n      <td>10</td>\n      <td>The Lord of the Rings: The Fellowship of the Ring</td>\n      <td>https://www.imdb.com/title/tt0120737/</td>\n      <td>2001</td>\n      <td>8.8</td>\n      <td>1,649,091</td>\n      <td>A meek Hobbit from the Shire and eight compani...</td>\n      <td>New Line Cinema,WingNut Films,The Saul Zaentz ...</td>\n      <td>Peter Jackson</td>\n      <td>J.R.R. Tolkien</td>\n      <td>...</td>\n      <td></td>\n      <td>English</td>\n      <td>Sindarin</td>\n      <td></td>\n      <td></td>\n      <td></td>\n      <td>$93,000,000</td>\n      <td>$888,159,092</td>\n      <td>$315,544,750</td>\n      <td>$47,211,490</td>\n    </tr>\n  </tbody>\n</table>\n<p>10 rows × 31 columns</p>\n</div>"
     },
     "metadata": {},
     "execution_count": 7
    }
   ],
   "source": [
    "for i in range(0, len(imdb_movie_list)):\n",
    "    dataframe.at[i, 'ranking'] = imdb_movie_list[i]['ranking']\n",
    "    dataframe.at[i, 'movie_name'] = imdb_movie_list[i]['movie_name']\n",
    "    dataframe.at[i, 'url'] = imdb_movie_list[i]['url']\n",
    "    dataframe.at[i, 'year'] = imdb_movie_list[i]['year']\n",
    "    dataframe.at[i, 'rating'] = imdb_movie_list[i]['rating']\n",
    "    dataframe.at[i, 'vote_count'] = imdb_movie_list[i]['vote_count']\n",
    "    dataframe.at[i, 'summary'] = imdb_movie_list[i]['summary']\n",
    "    dataframe.at[i, 'production'] = imdb_movie_list[i]['production']\n",
    "    dataframe.at[i, 'director'] = imdb_movie_list[i]['director'][0]\n",
    "    dataframe.at[i, 'writer_1'] = imdb_movie_list[i]['writers'][0]\n",
    "    dataframe.at[i, 'writer_2'] = imdb_movie_list[i]['writers'][1]\n",
    "    dataframe.at[i, 'genre_1'] = imdb_movie_list[i]['genres'][0]\n",
    "    dataframe.at[i, 'genre_2'] = imdb_movie_list[i]['genres'][1]\n",
    "    dataframe.at[i, 'genre_3'] = imdb_movie_list[i]['genres'][2]\n",
    "    dataframe.at[i, 'genre_4'] = imdb_movie_list[i]['genres'][3]\n",
    "    dataframe.at[i, 'release_date'] = imdb_movie_list[i]['release_date']\n",
    "    dataframe.at[i, 'censor_rating'] = imdb_movie_list[i]['censor_rating']\n",
    "    dataframe.at[i, 'movie_length'] = imdb_movie_list[i]['movie_length']\n",
    "    dataframe.at[i, 'country_1'] = imdb_movie_list[i]['country'][0]\n",
    "    dataframe.at[i, 'country_2'] = imdb_movie_list[i]['country'][1]\n",
    "    dataframe.at[i, 'country_3'] = imdb_movie_list[i]['country'][2]\n",
    "    dataframe.at[i, 'country_4'] = imdb_movie_list[i]['country'][3]\n",
    "    dataframe.at[i, 'language_1'] = imdb_movie_list[i]['language'][0]\n",
    "    dataframe.at[i, 'language_2'] = imdb_movie_list[i]['language'][1]\n",
    "    dataframe.at[i, 'language_3'] = imdb_movie_list[i]['language'][2]\n",
    "    dataframe.at[i, 'language_4'] = imdb_movie_list[i]['language'][3]\n",
    "    dataframe.at[i, 'language_5'] = imdb_movie_list[i]['language'][4]\n",
    "    dataframe.at[i, 'budget'] = imdb_movie_list[i]['budget']\n",
    "    dataframe.at[i, 'gross_worldwide'] = imdb_movie_list[i]['gross_worldwide']\n",
    "    dataframe.at[i, 'gross_usa'] = imdb_movie_list[i]['gross_usa']\n",
    "    dataframe.at[i, 'opening_week_usa'] = imdb_movie_list[i]['opening_week_usa']\n",
    "\n",
    "dataframe = dataframe.set_index(['ranking'], drop=False)\n",
    "dataframe.head(10)"
   ]
  },
  {
   "source": [
    "Save dataframe into a comma-separated values file (CSV)"
   ],
   "cell_type": "markdown",
   "metadata": {}
  },
  {
   "cell_type": "code",
   "execution_count": 8,
   "metadata": {},
   "outputs": [
    {
     "output_type": "stream",
     "name": "stdout",
     "text": [
      "Successfully saved to CSV\n"
     ]
    }
   ],
   "source": [
    "dataframe.to_csv('./src/data/imdb_movies_data.csv')\n",
    "print(\"Successfully saved to CSV\")"
   ]
  }
 ]
}