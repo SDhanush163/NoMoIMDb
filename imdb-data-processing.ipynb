{
 "metadata": {
  "language_info": {
   "codemirror_mode": {
    "name": "ipython",
    "version": 3
   },
   "file_extension": ".py",
   "mimetype": "text/x-python",
   "name": "python",
   "nbconvert_exporter": "python",
   "pygments_lexer": "ipython3",
   "version": "3.7.4-final"
  },
  "orig_nbformat": 2,
  "kernelspec": {
   "name": "python3",
   "display_name": "Python 3.7.4 64-bit",
   "metadata": {
    "interpreter": {
     "hash": "04635d289a519a1410467dd0afb0db42f9184808881ca68b2eb5a687a20a5a94"
    }
   }
  }
 },
 "nbformat": 4,
 "nbformat_minor": 2,
 "cells": [
  {
   "source": [
    "# IMDb Data Processing\n",
    "- Retrieve data from [IMDb top 250](https://www.imdb.com/chart/top)\n",
    "- Create JSON Object file\n",
    "- Create pandas dataframe for data analysis "
   ],
   "cell_type": "markdown",
   "metadata": {}
  },
  {
   "source": [
    "## Data retrieval\n",
    "Import required packages. <br />\n",
    "Install the additional dependencies before running the script (If you don't have them installed prior)\n",
    " - pip install [requests](https://pypi.org/project/requests/)\n",
    " - pip install [beautifulsoup4](https://pypi.org/project/beautifulsoup4/)\n",
    " - pip install [pandas](https://pypi.org/project/pandas/)\n",
    " - pip install [tqdm](https://pypi.org/project/tqdm/) \n"
   ],
   "cell_type": "markdown",
   "metadata": {}
  },
  {
   "cell_type": "code",
   "execution_count": 1,
   "metadata": {},
   "outputs": [],
   "source": [
    "import requests                 # Simpler HTTP requests \n",
    "from bs4 import BeautifulSoup   # Python package for pulling data out of HTML and XML files\n",
    "import pandas as pd             # Python package for data manipulation and analysis\n",
    "import re                       # regular expressions\n",
    "import json                     # Python package used to work with JSON data\n",
    "from tqdm import tqdm           # python for displaying progressbar \n"
   ]
  },
  {
   "source": [
    "Get the session and pull Soup data from the HTML"
   ],
   "cell_type": "markdown",
   "metadata": {}
  },
  {
   "cell_type": "code",
   "execution_count": 2,
   "metadata": {},
   "outputs": [],
   "source": [
    "url = 'https://www.imdb.com/chart/top'              # IMDb Top 250 list link\n",
    "url_text = requests.get(url).text                    # Get the session text for the link\n",
    "url_soup = BeautifulSoup(url_text, 'html.parser')   # Get data from the HTML\n"
   ]
  },
  {
   "source": [
    "Get the different fields from the top 250 list"
   ],
   "cell_type": "markdown",
   "metadata": {}
  },
  {
   "cell_type": "code",
   "execution_count": 3,
   "metadata": {
    "tags": []
   },
   "outputs": [
    {
     "output_type": "stream",
     "name": "stderr",
     "text": [
      "Movies processed: 100%|███████████████████████████████████████████| 250/250 [09:27<00:00,  2.27s/it]\n"
     ]
    }
   ],
   "source": [
    "template = 'https://www.imdb.com%s'\n",
    "\n",
    "# Get the title links for all the pages\n",
    "title_links = [template % a.attrs.get('href') for a in url_soup.select('td.titleColumn a')]\n",
    "\n",
    "imdb_movie_list = []\n",
    "# Getting the various fields and creating a list of objects with details\n",
    "#   - ranking | movie_name | url | year | rating | vote_count | summary | production | director | writer_1 | writer_2\n",
    "#   - genre_1 | genre_2 | genre_3 | genre_4 | release date | censor_rating | movie_length | country | language\n",
    "#   - budget | gross_worldwide | gross_usa | opening_week_usa\n",
    "\n",
    "for i in tqdm(range(0, len(title_links)), desc=\"Movies processed\", ncols=100):\n",
    "    page_url = title_links[i]\n",
    "    page_text = requests.get(page_url).text\n",
    "    page_soup = BeautifulSoup(page_text, 'html.parser')\n",
    "\n",
    "    # ------------------------------------------------------------------------------------------\n",
    "    # Getting movie name, year, rating and number of votes\n",
    "    movie_name = (page_soup.find(\"div\",{\"class\":\"title_wrapper\"}).get_text(strip=True).split('|')[0]).split('(')[0]\n",
    "    year = ((page_soup.find(\"div\",{\"class\":\"title_wrapper\"}).get_text(strip=True).split('|')[0]).split('(')[1]).split(')')[0]\n",
    "    rating = page_soup.find(\"span\",{\"itemprop\":\"ratingValue\"}).text\n",
    "    vote_count = page_soup.find(\"span\",{\"itemprop\":\"ratingCount\"}).text\n",
    "\n",
    "    # ------------------------------------------------------------------------------------------\n",
    "    # Getting censor rating, movie length, genre list, rlease date and \n",
    "    # country from the subtext\n",
    "    subtext= page_soup.find(\"div\",{\"class\":\"subtext\"}).get_text(strip=True).split('|')\n",
    "    \n",
    "    if len(subtext) < 4:\n",
    "        # Setting values when the movie is unrated\n",
    "        censor_rating = \"No rating\"\n",
    "        movie_length = subtext[0]\n",
    "        genre_list = subtext[1].split(',')\n",
    "\n",
    "        while len(genre_list) < 4: genre_list.append(' ')\n",
    "        genre_1, genre_2, genre_3, genre_4 = genre_list\n",
    "        \n",
    "        release_date_and_country = subtext[2].split('(')\n",
    "        release_date = movie_length_and_country[0]\n",
    "    else: \n",
    "        censor_rating = subtext[0]\n",
    "        movie_length = subtext[1]\n",
    "        genre_list = subtext[2].split(',')\n",
    "\n",
    "        while len(genre_list) < 4: genre_list.append(' ')\n",
    "\n",
    "        movie_length_and_country = subtext[3].split('(')\n",
    "        release_date = movie_length_and_country[0]\n",
    "\n",
    "    # ------------------------------------------------------------------------------------------\n",
    "    # Getting the movie summary\n",
    "    summary = page_soup.find(\"div\",{\"class\":\"summary_text\"}).get_text(strip=True).strip()\n",
    "    \n",
    "    # ------------------------------------------------------------------------------------------\n",
    "    # Getting the credits for the director and writers\n",
    "    credit_summary = []\n",
    "    for summary_item in page_soup.find_all(\"div\",{\"class\":\"credit_summary_item\"}):\n",
    "        credit_summary.append(re.split(',|:|\\|',summary_item.get_text(strip=True)))\n",
    "    \n",
    "    credit_summary.pop()\n",
    "    writers = credit_summary.pop()[1:3]\n",
    "    director = credit_summary.pop()[1:]\n",
    "    \n",
    "    while len(writers) < 2: writers.append(\" \")\n",
    "    writer_1, writer_2 = writers\n",
    "    writer_1 = writer_1.split('(')[0]\n",
    "    writer_2 = writer_2.split('(')[0]\n",
    "\n",
    "    # ------------------------------------------------------------------------------------------\n",
    "    # Getting the box office details for language, budget, Opening Weekend USA, \n",
    "    # Gross income worldwide and USA, and production company\n",
    "    box_office_details = []\n",
    "    box_office_dictionary = {'Country':'','Language':'','Budget':'', 'Opening Weekend USA':'','Gross USA':'','Cumulative Worldwide Gross':'','Production Co':''}\n",
    "    for details in page_soup.find_all(\"div\",{\"class\":\"txt-block\"}):\n",
    "        detail = details.get_text(strip=True).split(':')\n",
    "        if detail[0] in box_office_dictionary:\n",
    "            box_office_details.append(detail)\n",
    "    \n",
    "    for detail in box_office_details: \n",
    "        if detail[0] in box_office_dictionary: \n",
    "            box_office_dictionary.update({detail[0] : detail[1]}) \n",
    "\n",
    "    country = box_office_dictionary['Country'].split(\"|\")\n",
    "    while len(country) < 4: country.append(' ')\n",
    "\n",
    "    language = box_office_dictionary['Language'].split(\"|\")\n",
    "    while len(language) < 5: language.append(' ')\n",
    "\n",
    "    budget = box_office_dictionary['Budget'].split('(')[0]\n",
    "\n",
    "    opening_week_usa = ','.join((box_office_dictionary['Opening Weekend USA'].split(' ')[0]).split(',')[:-1])\n",
    "\n",
    "    gross_usa = box_office_dictionary['Gross USA']\n",
    "    gross_worldwide = box_office_dictionary['Cumulative Worldwide Gross'].split(' ')[0]\n",
    "    production = box_office_dictionary['Production Co'].split('See more')[0]\n",
    "\n",
    "    movie_dict = { 'ranking': i+1, 'movie_name': movie_name, 'url': page_url, 'year': year,\n",
    "        'rating': rating, 'vote_count': vote_count, 'summary': summary, 'production': production,\n",
    "        'director': director, 'writers': [writer_1, writer_2], 'genres': genre_list, 'release_date': release_date,\n",
    "        'censor_rating': censor_rating, 'movie_length': movie_length, 'country': country,\n",
    "        'language': language, 'budget': budget, 'gross_worldwide': gross_worldwide,\n",
    "        'gross_usa': gross_usa,'opening_week_usa': opening_week_usa }\n",
    "\n",
    "    imdb_movie_list.append(movie_dict)"
   ]
  },
  {
   "source": [
    "## JSON Object file creation\n",
    "Sample JSON data"
   ],
   "cell_type": "markdown",
   "metadata": {}
  },
  {
   "cell_type": "code",
   "execution_count": 4,
   "metadata": {},
   "outputs": [
    {
     "output_type": "stream",
     "name": "stdout",
     "text": [
      "{'ranking': 1, 'movie_name': 'The Shawshank Redemption', 'url': 'https://www.imdb.com/title/tt0111161/', 'year': '1994', 'rating': '9.3', 'vote_count': '2,321,323', 'summary': 'Two imprisoned men bond over a number of years, finding solace and eventual redemption through acts of common decency.', 'production': 'Castle Rock Entertainment', 'director': ['Frank Darabont'], 'writers': ['Stephen King', 'Frank Darabont'], 'genres': ['Drama', ' ', ' ', ' '], 'release_date': '14 October 1994 ', 'censor_rating': 'A', 'movie_length': '2h 22min', 'country': ['USA'], 'language': ['English'], 'budget': '$25,000,000', 'gross_worldwide': '$28,815,291', 'gross_usa': '$28,699,976', 'opening_week_usa': '$727,327'} \n\n{'ranking': 2, 'movie_name': 'The Godfather', 'url': 'https://www.imdb.com/title/tt0068646/', 'year': '1972', 'rating': '9.2', 'vote_count': '1,603,264', 'summary': 'The aging patriarch of an organized crime dynasty transfers control of his clandestine empire to his reluctant son.', 'production': 'Paramount Pictures,Alfran Productions', 'director': ['Francis Ford Coppola'], 'writers': ['Mario Puzo', 'Francis Ford Coppola'], 'genres': ['Crime', 'Drama', ' ', ' '], 'release_date': '24 March 1972 ', 'censor_rating': 'A', 'movie_length': '2h 55min', 'country': ['USA'], 'language': ['English', 'Italian', 'Latin'], 'budget': '$6,000,000', 'gross_worldwide': '$246,120,986', 'gross_usa': '$134,966,411', 'opening_week_usa': '$302,393'} \n\n{'ranking': 3, 'movie_name': 'The Godfather: Part II', 'url': 'https://www.imdb.com/title/tt0071562/', 'year': '1974', 'rating': '9.0', 'vote_count': '1,119,674', 'summary': 'The early life and career of Vito Corleone in 1920s New York City is portrayed, while his son, Michael, expands and tightens his grip on the family crime syndicate.', 'production': 'Paramount Pictures,The Coppola Company,American Zoetrope', 'director': ['Francis Ford Coppola'], 'writers': ['Francis Ford Coppola', 'Mario Puzo'], 'genres': ['Crime', 'Drama', ' ', ' '], 'release_date': '2 May 2020 ', 'censor_rating': 'A', 'movie_length': '3h 22min', 'country': ['USA'], 'language': ['English', 'Italian', 'Spanish', 'Latin', 'Sicilian'], 'budget': '$13,000,000', 'gross_worldwide': '$48,035,783', 'gross_usa': '$47,834,595', 'opening_week_usa': '$171,417'} \n\n{'ranking': 4, 'movie_name': 'The Dark Knight', 'url': 'https://www.imdb.com/title/tt0468569/', 'year': '2008', 'rating': '9.0', 'vote_count': '2,283,323', 'summary': 'When the menace known as the Joker wreaks havoc and chaos on the people of Gotham, Batman must accept one of the greatest psychological and physical tests of his ability to fight injustice.', 'production': 'Warner Bros.,Legendary Entertainment,Syncopy', 'director': ['Christopher Nolan'], 'writers': ['Jonathan Nolan', 'Christopher Nolan'], 'genres': ['Action', 'Crime', 'Drama', ' '], 'release_date': '18 July 2008 ', 'censor_rating': 'UA', 'movie_length': '2h 32min', 'country': ['USA', 'UK'], 'language': ['English', 'Mandarin'], 'budget': '$185,000,000', 'gross_worldwide': '$1,005,973,645', 'gross_usa': '$534,858,444', 'opening_week_usa': '$158,411,483'} \n\n{'ranking': 5, 'movie_name': '12 Angry Men', 'url': 'https://www.imdb.com/title/tt0050083/', 'year': '1957', 'rating': '9.0', 'vote_count': '683,150', 'summary': 'A jury holdout attempts to prevent a miscarriage of justice by forcing his colleagues to reconsider the evidence.', 'production': 'Orion-Nova Productions', 'director': ['Sidney Lumet'], 'writers': ['Reginald Rose', 'Reginald Rose'], 'genres': ['Crime', 'Drama', ' ', ' '], 'release_date': '18 July 2008 ', 'censor_rating': 'No rating', 'movie_length': '1h 36min', 'country': ['USA'], 'language': ['English'], 'budget': '$350,000', 'gross_worldwide': '$576', 'gross_usa': '', 'opening_week_usa': ''} \n\n"
     ]
    }
   ],
   "source": [
    "for i in range(0, 5):\n",
    "    print(imdb_movie_list[i],'\\n')"
   ]
  },
  {
   "source": [
    "Store the array in a JSON file"
   ],
   "cell_type": "markdown",
   "metadata": {}
  },
  {
   "cell_type": "code",
   "execution_count": 5,
   "metadata": {},
   "outputs": [
    {
     "output_type": "stream",
     "name": "stdout",
     "text": [
      "Successfully saved to JSON file\n"
     ]
    }
   ],
   "source": [
    "with open('./src/data/imdb_movies_data.json', 'w') as file:\n",
    "    json.dump(imdb_movie_list, file)\n",
    "print(\"Successfully saved to JSON file\")\n"
   ]
  },
  {
   "source": [
    "## Dataframe file creation\n",
    "Initializing the dataframe"
   ],
   "cell_type": "markdown",
   "metadata": {}
  },
  {
   "cell_type": "code",
   "execution_count": 7,
   "metadata": {},
   "outputs": [
    {
     "output_type": "execute_result",
     "data": {
      "text/plain": [
       "Empty DataFrame\n",
       "Columns: [ranking, movie_name, url, year, rating, vote_count, summary, production, director, writer_1, writer_2, genre_1, genre_2, genre_3, genre_4, release_date, censor_rating, movie_length, country_1, country_2, country_3, country_4, language_1, language_2, language_3, language_4, language_5, budget, gross_worldwide, gross_usa, opening_week_usa]\n",
       "Index: []\n",
       "\n",
       "[0 rows x 31 columns]"
      ],
      "text/html": "<div>\n<style scoped>\n    .dataframe tbody tr th:only-of-type {\n        vertical-align: middle;\n    }\n\n    .dataframe tbody tr th {\n        vertical-align: top;\n    }\n\n    .dataframe thead th {\n        text-align: right;\n    }\n</style>\n<table border=\"1\" class=\"dataframe\">\n  <thead>\n    <tr style=\"text-align: right;\">\n      <th></th>\n      <th>ranking</th>\n      <th>movie_name</th>\n      <th>url</th>\n      <th>year</th>\n      <th>rating</th>\n      <th>vote_count</th>\n      <th>summary</th>\n      <th>production</th>\n      <th>director</th>\n      <th>writer_1</th>\n      <th>...</th>\n      <th>country_4</th>\n      <th>language_1</th>\n      <th>language_2</th>\n      <th>language_3</th>\n      <th>language_4</th>\n      <th>language_5</th>\n      <th>budget</th>\n      <th>gross_worldwide</th>\n      <th>gross_usa</th>\n      <th>opening_week_usa</th>\n    </tr>\n  </thead>\n  <tbody>\n  </tbody>\n</table>\n<p>0 rows × 31 columns</p>\n</div>"
     },
     "metadata": {},
     "execution_count": 7
    }
   ],
   "source": [
    "dataframe_columns = [ 'ranking', 'movie_name', 'url', 'year', 'rating', 'vote_count', 'summary', 'production',\n",
    "        'director', 'writer_1', 'writer_2', 'genre_1', 'genre_2', 'genre_3', 'genre_4','release_date', 'censor_rating', \n",
    "        'movie_length', 'country_1', 'country_2', 'country_3', 'country_4', 'language_1', 'language_2', 'language_3', \n",
    "        'language_4', 'language_5', 'budget', 'gross_worldwide', 'gross_usa','opening_week_usa']\n",
    "dataframe = pd.DataFrame(columns=dataframe_columns)\n",
    "dataframe"
   ]
  },
  {
   "source": [
    "Parse data into the dataframe"
   ],
   "cell_type": "markdown",
   "metadata": {}
  },
  {
   "cell_type": "code",
   "execution_count": 8,
   "metadata": {},
   "outputs": [
    {
     "output_type": "error",
     "ename": "IndexError",
     "evalue": "list index out of range",
     "traceback": [
      "\u001b[1;31m---------------------------------------------------------------------------\u001b[0m",
      "\u001b[1;31mIndexError\u001b[0m                                Traceback (most recent call last)",
      "\u001b[1;32m<ipython-input-8-125a396efcc9>\u001b[0m in \u001b[0;36m<module>\u001b[1;34m\u001b[0m\n\u001b[0;32m     19\u001b[0m     \u001b[0mdataframe\u001b[0m\u001b[1;33m.\u001b[0m\u001b[0mat\u001b[0m\u001b[1;33m[\u001b[0m\u001b[0mi\u001b[0m\u001b[1;33m,\u001b[0m \u001b[1;34m'movie_length'\u001b[0m\u001b[1;33m]\u001b[0m \u001b[1;33m=\u001b[0m \u001b[0mimdb_movie_list\u001b[0m\u001b[1;33m[\u001b[0m\u001b[0mi\u001b[0m\u001b[1;33m]\u001b[0m\u001b[1;33m[\u001b[0m\u001b[1;34m'movie_length'\u001b[0m\u001b[1;33m]\u001b[0m\u001b[1;33m\u001b[0m\u001b[1;33m\u001b[0m\u001b[0m\n\u001b[0;32m     20\u001b[0m     \u001b[0mdataframe\u001b[0m\u001b[1;33m.\u001b[0m\u001b[0mat\u001b[0m\u001b[1;33m[\u001b[0m\u001b[0mi\u001b[0m\u001b[1;33m,\u001b[0m \u001b[1;34m'country_1'\u001b[0m\u001b[1;33m]\u001b[0m \u001b[1;33m=\u001b[0m \u001b[0mimdb_movie_list\u001b[0m\u001b[1;33m[\u001b[0m\u001b[0mi\u001b[0m\u001b[1;33m]\u001b[0m\u001b[1;33m[\u001b[0m\u001b[1;34m'country'\u001b[0m\u001b[1;33m]\u001b[0m\u001b[1;33m[\u001b[0m\u001b[1;36m0\u001b[0m\u001b[1;33m]\u001b[0m\u001b[1;33m\u001b[0m\u001b[1;33m\u001b[0m\u001b[0m\n\u001b[1;32m---> 21\u001b[1;33m     \u001b[0mdataframe\u001b[0m\u001b[1;33m.\u001b[0m\u001b[0mat\u001b[0m\u001b[1;33m[\u001b[0m\u001b[0mi\u001b[0m\u001b[1;33m,\u001b[0m \u001b[1;34m'country_2'\u001b[0m\u001b[1;33m]\u001b[0m \u001b[1;33m=\u001b[0m \u001b[0mimdb_movie_list\u001b[0m\u001b[1;33m[\u001b[0m\u001b[0mi\u001b[0m\u001b[1;33m]\u001b[0m\u001b[1;33m[\u001b[0m\u001b[1;34m'country'\u001b[0m\u001b[1;33m]\u001b[0m\u001b[1;33m[\u001b[0m\u001b[1;36m1\u001b[0m\u001b[1;33m]\u001b[0m\u001b[1;33m\u001b[0m\u001b[1;33m\u001b[0m\u001b[0m\n\u001b[0m\u001b[0;32m     22\u001b[0m     \u001b[0mdataframe\u001b[0m\u001b[1;33m.\u001b[0m\u001b[0mat\u001b[0m\u001b[1;33m[\u001b[0m\u001b[0mi\u001b[0m\u001b[1;33m,\u001b[0m \u001b[1;34m'country_3'\u001b[0m\u001b[1;33m]\u001b[0m \u001b[1;33m=\u001b[0m \u001b[0mimdb_movie_list\u001b[0m\u001b[1;33m[\u001b[0m\u001b[0mi\u001b[0m\u001b[1;33m]\u001b[0m\u001b[1;33m[\u001b[0m\u001b[1;34m'country'\u001b[0m\u001b[1;33m]\u001b[0m\u001b[1;33m[\u001b[0m\u001b[1;36m2\u001b[0m\u001b[1;33m]\u001b[0m\u001b[1;33m\u001b[0m\u001b[1;33m\u001b[0m\u001b[0m\n\u001b[0;32m     23\u001b[0m     \u001b[0mdataframe\u001b[0m\u001b[1;33m.\u001b[0m\u001b[0mat\u001b[0m\u001b[1;33m[\u001b[0m\u001b[0mi\u001b[0m\u001b[1;33m,\u001b[0m \u001b[1;34m'country_4'\u001b[0m\u001b[1;33m]\u001b[0m \u001b[1;33m=\u001b[0m \u001b[0mimdb_movie_list\u001b[0m\u001b[1;33m[\u001b[0m\u001b[0mi\u001b[0m\u001b[1;33m]\u001b[0m\u001b[1;33m[\u001b[0m\u001b[1;34m'country'\u001b[0m\u001b[1;33m]\u001b[0m\u001b[1;33m[\u001b[0m\u001b[1;36m3\u001b[0m\u001b[1;33m]\u001b[0m\u001b[1;33m\u001b[0m\u001b[1;33m\u001b[0m\u001b[0m\n",
      "\u001b[1;31mIndexError\u001b[0m: list index out of range"
     ]
    }
   ],
   "source": [
    "for i in range(0, len(imdb_movie_list)):\n",
    "    dataframe.at[i, 'ranking'] = imdb_movie_list[i]['ranking']\n",
    "    dataframe.at[i, 'movie_name'] = imdb_movie_list[i]['movie_name']\n",
    "    dataframe.at[i, 'url'] = imdb_movie_list[i]['url']\n",
    "    dataframe.at[i, 'year'] = imdb_movie_list[i]['year']\n",
    "    dataframe.at[i, 'rating'] = imdb_movie_list[i]['rating']\n",
    "    dataframe.at[i, 'vote_count'] = imdb_movie_list[i]['vote_count']\n",
    "    dataframe.at[i, 'summary'] = imdb_movie_list[i]['summary']\n",
    "    dataframe.at[i, 'production'] = imdb_movie_list[i]['production']\n",
    "    dataframe.at[i, 'director'] = imdb_movie_list[i]['director']\n",
    "    dataframe.at[i, 'writer_1'] = imdb_movie_list[i]['writers'][0]\n",
    "    dataframe.at[i, 'writer_2'] = imdb_movie_list[i]['writers'][1]\n",
    "    dataframe.at[i, 'genre_1'] = imdb_movie_list[i]['genres'][0]\n",
    "    dataframe.at[i, 'genre_2'] = imdb_movie_list[i]['genres'][1]\n",
    "    dataframe.at[i, 'genre_3'] = imdb_movie_list[i]['genres'][2]\n",
    "    dataframe.at[i, 'genre_4'] = imdb_movie_list[i]['genres'][3]\n",
    "    dataframe.at[i, 'release_date'] = imdb_movie_list[i]['release_date']\n",
    "    dataframe.at[i, 'censor_rating'] = imdb_movie_list[i]['censor_rating']\n",
    "    dataframe.at[i, 'movie_length'] = imdb_movie_list[i]['movie_length']\n",
    "    dataframe.at[i, 'country_1'] = imdb_movie_list[i]['country'][0]\n",
    "    dataframe.at[i, 'country_2'] = imdb_movie_list[i]['country'][1]\n",
    "    dataframe.at[i, 'country_3'] = imdb_movie_list[i]['country'][2]\n",
    "    dataframe.at[i, 'country_4'] = imdb_movie_list[i]['country'][3]\n",
    "    dataframe.at[i, 'language_1'] = imdb_movie_list[i]['language'][0]\n",
    "    dataframe.at[i, 'language_2'] = imdb_movie_list[i]['language'][1]\n",
    "    dataframe.at[i, 'language_3'] = imdb_movie_list[i]['language'][2]\n",
    "    dataframe.at[i, 'language_4'] = imdb_movie_list[i]['language'][3]\n",
    "    dataframe.at[i, 'language_5'] = imdb_movie_list[i]['language'][4]\n",
    "    dataframe.at[i, 'budget'] = imdb_movie_list[i]['budget']\n",
    "    dataframe.at[i, 'gross_worldwide'] = imdb_movie_list[i]['gross_worldwide']\n",
    "    dataframe.at[i, 'gross_usa'] = imdb_movie_list[i]['gross_usa']\n",
    "    dataframe.at[i, 'opening_week_usa'] = imdb_movie_list[i]['opening_week_usa']\n",
    "\n",
    "dataframe = dataframe.set_index(['ranking'], drop=False)\n",
    "dataframe.head(10)"
   ]
  },
  {
   "source": [
    "Save dataframe into a comma-separated values file (CSV)"
   ],
   "cell_type": "markdown",
   "metadata": {}
  },
  {
   "cell_type": "code",
   "execution_count": 8,
   "metadata": {},
   "outputs": [
    {
     "output_type": "stream",
     "name": "stdout",
     "text": [
      "Successfully saved to CSV\n"
     ]
    }
   ],
   "source": [
    "dataframe.to_csv('./src/data/imdb_movies_data.csv')\n",
    "print(\"Successfully saved to CSV\")"
   ]
  }
 ]
}